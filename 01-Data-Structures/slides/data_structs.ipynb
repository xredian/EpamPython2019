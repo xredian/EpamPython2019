{
 "cells": [
  {
   "cell_type": "markdown",
   "metadata": {
    "colab_type": "text",
    "id": "Q0cbFpmlfB0q",
    "slideshow": {
     "slide_type": "slide"
    }
   },
   "source": [
    "# Структуры данных и функции"
   ]
  },
  {
   "cell_type": "markdown",
   "metadata": {
    "slideshow": {
     "slide_type": "subslide"
    }
   },
   "source": [
    "1. Изменяемые и неизменяемые типы данных\n",
    "\n",
    "    Строки\n",
    "    \n",
    "    Списки\n",
    "\n",
    "    Кортежи (tuple vs named tuple)\n",
    "\n",
    "    Сеты (+frozen set)\n",
    "    \n",
    "    Словари\n",
    "    \n",
    "    Файлы, режимы чтения (+ контекстные менеджеры)"
   ]
  },
  {
   "cell_type": "markdown",
   "metadata": {
    "colab_type": "text",
    "id": "LvZgIY4pfB0s",
    "slideshow": {
     "slide_type": "subslide"
    }
   },
   "source": [
    "2. Функции\n",
    "   \n",
    "   Аргументы\n",
    "   \n",
    "   Namespaces\n",
    "   \n",
    "   Scopes (LEGB)\n",
    "   \n",
    "   Enclosing\n",
    "   \n",
    "   Function as an object"
   ]
  },
  {
   "cell_type": "markdown",
   "metadata": {
    "colab_type": "text",
    "id": "gqqgApWAfB0t",
    "slideshow": {
     "slide_type": "subslide"
    }
   },
   "source": [
    "3. Функциональное программирование\n",
    "\n",
    "    Парадигмы программирования\n",
    "    \n",
    "    Динамическая типизация и какие еще лейблы можно наклеить на Python\n",
    "    \n",
    "    List comprehensions\n",
    "    \n",
    "    Lambda, map, filter, reduce, zip\n",
    "    \n",
    "    functools, itertools - basics\n",
    "    \n",
    "    Декораторы\n",
    "    \n",
    "    Области видимости\n",
    "      \n",
    "    \n",
    "\n",
    "*Бонусы: избавляемся от шершавых листов, enumerate и другие прелести."
   ]
  },
  {
   "cell_type": "markdown",
   "metadata": {
    "slideshow": {
     "slide_type": "slide"
    }
   },
   "source": [
    "## __Структура данных__ - это программная единица, к функциям которой относят хранение и обработку множества однотипных или логически связанных данных в вычислительной технике, реализованную через интерфейс, состоящий из набора функций для добавления, поиска, изменения и удаления данных."
   ]
  },
  {
   "cell_type": "markdown",
   "metadata": {
    "slideshow": {
     "slide_type": "subslide"
    }
   },
   "source": [
    "## ~~50~~ 3 оттенка термина «структура данных»:\n",
    "\n",
    "-  Абстрактный тип данных;\n",
    "-  Реализация какого-либо абстрактного типа данных;\n",
    "-  Экземпляр типа данных (конкретный список);\n",
    "\n",
    "## Структура данных = типы данных + ссылки + операций над ними в выбранном языке программирования. \n",
    "\n",
    "- Тип данных - множество значений и операций на этих значениях.\n",
    "\n",
    "- Ссылка - это объект, указывающий на определенные данные, но не хранящий их."
   ]
  },
  {
   "cell_type": "markdown",
   "metadata": {
    "colab_type": "text",
    "id": "zLj3fLODjoCv",
    "slideshow": {
     "slide_type": "slide"
    }
   },
   "source": [
    "## В начале был PEP8"
   ]
  },
  {
   "cell_type": "markdown",
   "metadata": {
    "colab_type": "text",
    "id": "--CD6A7jjoYr",
    "slideshow": {
     "slide_type": "fragment"
    }
   },
   "source": [
    "### Предпосылки:\n",
    "\n",
    "Код читают чаще, чем пишут. Давайте работать над его читаемостью. \n",
    "\n",
    "### Поработали:\n",
    "\n",
    "https://www.python.org/dev/peps/pep-0008/\n",
    "\n",
    "### Пример того, за что можно получить по рукам\n",
    "\n",
    "<img src=\"images/pep_example.png\" width=\"2500\" height=\"1500\">\n"
   ]
  },
  {
   "cell_type": "markdown",
   "metadata": {
    "slideshow": {
     "slide_type": "subslide"
    }
   },
   "source": [
    "<img src=\"images/pep8.jpg\" width=\"2500\" height=\"1500\">"
   ]
  },
  {
   "cell_type": "markdown",
   "metadata": {
    "slideshow": {
     "slide_type": "slide"
    }
   },
   "source": [
    "<img src=\"images/datatypes.png\" width=\"2500\" height=\"1500\">"
   ]
  },
  {
   "cell_type": "markdown",
   "metadata": {
    "colab_type": "text",
    "id": "lxK8ssbofB0w",
    "slideshow": {
     "slide_type": "slide"
    }
   },
   "source": [
    "## __Строки__ - это упорядоченные последовательности символов, используемые для хранения и представления текстовой информации."
   ]
  },
  {
   "cell_type": "markdown",
   "metadata": {
    "colab_type": "text",
    "id": "ajUwCOBdrl1w",
    "slideshow": {
     "slide_type": "slide"
    }
   },
   "source": [
    "## Литералы строк\n"
   ]
  },
  {
   "cell_type": "code",
   "execution_count": 1,
   "metadata": {
    "colab": {
     "base_uri": "https://localhost:8080/",
     "height": 34
    },
    "colab_type": "code",
    "id": "9B8Bz-YOr2fI",
    "outputId": "00c6d9a7-7fa6-4390-dbe5-14b4b6dac298",
    "slideshow": {
     "slide_type": "fragment"
    },
    "pycharm": {
     "is_executing": false
    }
   },
   "outputs": [
    {
     "data": {
      "text/plain": "'Апостроф  или кавычка?'"
     },
     "metadata": {},
     "output_type": "execute_result",
     "execution_count": 1
    }
   ],
   "source": [
    "\"Апостроф или кавычка?\"\n",
    "'Апостроф или кавычка?'\n",
    "\"\"\"Апостроф или три кавычки\"\"\"\n",
    "\"Апостроф\"\" или кавычка?\"\n",
    "\"Апостроф \" \" или кавычка?\""
   ]
  },
  {
   "cell_type": "markdown",
   "metadata": {
    "colab_type": "text",
    "id": "mAHkTArw8JVr",
    "slideshow": {
     "slide_type": "fragment"
    }
   },
   "source": [
    "# Записываем многострочные блоки текста"
   ]
  },
  {
   "cell_type": "code",
   "execution_count": 2,
   "metadata": {
    "colab": {
     "base_uri": "https://localhost:8080/",
     "height": 69
    },
    "colab_type": "code",
    "id": "dTNNClCvzTk0",
    "outputId": "460b60b4-c286-4b0f-a1ae-24d79ba56267",
    "slideshow": {
     "slide_type": "fragment"
    },
    "pycharm": {
     "is_executing": false
    }
   },
   "outputs": [
    {
     "name": "stdout",
     "text": [
      "a very very\nvery big\nstring\n"
     ],
     "output_type": "stream"
    }
   ],
   "source": [
    "big = '''a very very\n",
    "... very big\n",
    "... string'''\n",
    "print(big)"
   ]
  },
  {
   "cell_type": "markdown",
   "metadata": {
    "colab_type": "text",
    "id": "bjDR_khjrIwR",
    "slideshow": {
     "slide_type": "slide"
    }
   },
   "source": [
    "# __Экранирование__ - это замена в тексте управляющих символов на соответствующие текстовые подстановки.\n",
    "\n"
   ]
  },
  {
   "cell_type": "code",
   "execution_count": 3,
   "metadata": {
    "slideshow": {
     "slide_type": "fragment"
    },
    "pycharm": {
     "is_executing": false
    }
   },
   "outputs": [
    {
     "name": "stdout",
     "text": [
      "C:\teeeeeeext.txt C:\\teeeeeeext.txt\n"
     ],
     "output_type": "stream"
    }
   ],
   "source": [
    "problem = 'C:\\teeeeeeext.txt'\n",
    "no_problem = r'C:\\teeeeeeext.txt'\n",
    "no_problem = 'C:\\\\teeeeeeext.txt'\n",
    "\n",
    "print(problem, no_problem)"
   ]
  },
  {
   "cell_type": "markdown",
   "metadata": {
    "slideshow": {
     "slide_type": "subslide"
    }
   },
   "source": [
    "<img src=\"images/ekr.png\" width=\"800\" height=\"800\">"
   ]
  },
  {
   "cell_type": "markdown",
   "metadata": {
    "slideshow": {
     "slide_type": "subslide"
    }
   },
   "source": [
    "### Проблема: \n",
    "Иногда мы хотим избавить backslash в тексте от рабских функций. Но в питоне так не принято... \n",
    "### Raw string - освободитель backslash'ей!\n",
    "<img src=\"images/r.png\" width=\"600\" height=\"600\">\n",
    "_______________________________________________\n",
    "\n",
    "Формально:\n",
    "\n",
    "### Если перед открывающей кавычкой стоит символ 'r' (в любом регистре), то механизм экранирования отключается."
   ]
  },
  {
   "cell_type": "markdown",
   "metadata": {
    "colab_type": "text",
    "id": "g2FiBoEXFjE0",
    "slideshow": {
     "slide_type": "slide"
    }
   },
   "source": [
    "# ~~БОЛЬ~~ Кодировки\n",
    "\n",
    "__ASCII__ (American Standard Code for Information Interchange) - стандарт кодирования символов, а именно: латинского алфавита, цифр и некоторых символов. \n",
    "\n",
    "__Unicode__ -  стандарт кодирования символов, включающий в себя знаки почти всех письменных языков мира. В настоящее время стандарт является доминирующим в Интернете. \n"
   ]
  },
  {
   "cell_type": "code",
   "execution_count": 4,
   "metadata": {
    "colab": {
     "base_uri": "https://localhost:8080/",
     "height": 52
    },
    "colab_type": "code",
    "id": "eY5YMnUBfB0z",
    "outputId": "01fcc2dc-4fc9-4183-fd49-25ec936f8129",
    "slideshow": {
     "slide_type": "fragment"
    },
    "pycharm": {
     "is_executing": false
    }
   },
   "outputs": [
    {
     "name": "stdout",
     "text": [
      "Функция ord() символ переводит в его код ASCII: 2 - 50 \nФункция chr() код ASCII переводит в символ: 50 - 2\n"
     ],
     "output_type": "stream"
    }
   ],
   "source": [
    "print(f\"Функция ord() символ переводит в его код ASCII: {2} -\", ord(\"2\"),\n",
    "     f\"\\nФункция chr() код ASCII переводит в символ: {50} -\", chr(50))"
   ]
  },
  {
   "cell_type": "markdown",
   "metadata": {
    "colab_type": "text",
    "id": "yRaSwyLpJeE4",
    "slideshow": {
     "slide_type": "slide"
    }
   },
   "source": [
    "# Разница между ascii(), str(), repr()\n",
    "\n",
    "## Общее\n",
    "\n",
    "Методы для получения строкового представления объектов.\n",
    "\n",
    "\n",
    "## Кратко об отличиях\n",
    "\n",
    "__repr__ - однозначный (“official” string representation of an object)\n",
    "\n",
    "__str__ - человекочитаемый (nicely printable string representation of an object)\n",
    "\n",
    "__ascii__ - родственник repr'a,  заменяющий не-ASCII символы на escape characters\n",
    "\n",
    "\n",
    "## Прямо в тексте\n",
    "\n",
    " %s-спецификатор -  конвертирует, используя str()\n",
    " \n",
    " %r - конвертирует, используя repr()\n",
    " \n",
    " %a - конвертирует, используя ascii()"
   ]
  },
  {
   "cell_type": "code",
   "execution_count": 5,
   "metadata": {
    "colab": {
     "base_uri": "https://localhost:8080/",
     "height": 104
    },
    "colab_type": "code",
    "id": "NDk3IWV3JbUe",
    "outputId": "13882e95-9575-4874-e8bb-0219882470c3",
    "scrolled": true,
    "slideshow": {
     "slide_type": "subslide"
    },
    "pycharm": {
     "is_executing": false
    }
   },
   "outputs": [
    {
     "name": "stdout",
     "text": [
      "str() - 2019-11-09 22:11:24.315677 \nrepr() - datetime.datetime(2019, 11, 9, 22, 11, 24, 315677)\n\nrepr() - 'Les garçons' \nascii() - 'Les gar\\xe7ons'\n"
     ],
     "output_type": "stream"
    }
   ],
   "source": [
    "import datetime \n",
    "today = datetime.datetime.now() \n",
    "\n",
    "print(\"str() -\", str(today),\n",
    "      \"\\nrepr() -\", repr(today))\n",
    "\n",
    "mot = \"Les garçons\"\n",
    "print(\"\\nrepr() -\", repr(mot),\n",
    "      \"\\nascii() -\", ascii(mot))"
   ]
  },
  {
   "cell_type": "markdown",
   "metadata": {
    "slideshow": {
     "slide_type": "slide"
    }
   },
   "source": [
    "## Метод - это функция, которая применяется к объекту определенного типа и позволяет делать какие-либо манипуляции с ним."
   ]
  },
  {
   "cell_type": "code",
   "execution_count": 6,
   "metadata": {
    "colab": {
     "base_uri": "https://localhost:8080/",
     "height": 34
    },
    "colab_type": "code",
    "id": "EkKTyKu5NUFM",
    "outputId": "91becce9-7819-43ff-8998-3e3cf3a8d349",
    "slideshow": {
     "slide_type": "subslide"
    },
    "pycharm": {
     "is_executing": false
    }
   },
   "outputs": [
    {
     "data": {
      "text/plain": "'Python is awesome'"
     },
     "metadata": {},
     "output_type": "execute_result",
     "execution_count": 6
    }
   ],
   "source": [
    "example = \"Python is awesome\" \n",
    "example"
   ]
  },
  {
   "cell_type": "markdown",
   "metadata": {
    "colab_type": "text",
    "id": "Iwvk6lphfB03",
    "slideshow": {
     "slide_type": "fragment"
    }
   },
   "source": [
    "## Метод find() - позволяет найти подстроку в строке и вывести ее индекс. \n"
   ]
  },
  {
   "cell_type": "code",
   "execution_count": 7,
   "metadata": {
    "colab": {},
    "colab_type": "code",
    "id": "PoVyx_OxfB05",
    "outputId": "bebdeaa2-272c-4d15-9f33-5505a460fef2",
    "scrolled": true,
    "slideshow": {
     "slide_type": "fragment"
    },
    "pycharm": {
     "is_executing": false
    }
   },
   "outputs": [
    {
     "data": {
      "text/plain": "10"
     },
     "metadata": {},
     "output_type": "execute_result",
     "execution_count": 7
    }
   ],
   "source": [
    "example.find(\"aw\")"
   ]
  },
  {
   "cell_type": "markdown",
   "metadata": {
    "colab_type": "text",
    "id": "EGWujNrpfB1B",
    "slideshow": {
     "slide_type": "fragment"
    }
   },
   "source": [
    "## А если подстроки в строке нет?\n",
    "\n",
    "## При отсутствии подстроки в строке выводит -1."
   ]
  },
  {
   "cell_type": "code",
   "execution_count": 8,
   "metadata": {
    "colab": {},
    "colab_type": "code",
    "id": "Ua7vs7f8fB1C",
    "outputId": "e5ee1c6b-345e-492c-beb7-10e272b8e333",
    "scrolled": true,
    "slideshow": {
     "slide_type": "fragment"
    },
    "pycharm": {
     "is_executing": false
    }
   },
   "outputs": [
    {
     "data": {
      "text/plain": "-1"
     },
     "metadata": {},
     "output_type": "execute_result",
     "execution_count": 8
    }
   ],
   "source": [
    "example.find(\"l\")"
   ]
  },
  {
   "cell_type": "markdown",
   "metadata": {
    "colab_type": "text",
    "id": "4ztBsavMfB1H",
    "slideshow": {
     "slide_type": "subslide"
    }
   },
   "source": [
    "## Ищем с правого конца\n",
    "возвращает номер последнего вхождения подстроки"
   ]
  },
  {
   "cell_type": "code",
   "execution_count": 9,
   "metadata": {
    "colab": {},
    "colab_type": "code",
    "id": "xQv4D-kmfB1I",
    "outputId": "43d593b4-5dc9-4671-a11a-94318e161545",
    "scrolled": false,
    "slideshow": {
     "slide_type": "fragment"
    },
    "pycharm": {
     "is_executing": false
    }
   },
   "outputs": [
    {
     "data": {
      "text/plain": "10"
     },
     "metadata": {},
     "output_type": "execute_result",
     "execution_count": 9
    }
   ],
   "source": [
    "example.rfind(\"aw\")"
   ]
  },
  {
   "cell_type": "markdown",
   "metadata": {
    "colab_type": "text",
    "id": "RokO50RwfB1M",
    "slideshow": {
     "slide_type": "slide"
    }
   },
   "source": [
    "## А как еще найти индекс подстроки?"
   ]
  },
  {
   "cell_type": "code",
   "execution_count": 10,
   "metadata": {
    "colab": {},
    "colab_type": "code",
    "id": "FfSkarqQfB1N",
    "outputId": "fccb5e56-56fd-4c62-cbba-72785528165c",
    "slideshow": {
     "slide_type": "fragment"
    },
    "pycharm": {
     "is_executing": false
    }
   },
   "outputs": [
    {
     "data": {
      "text/plain": "0"
     },
     "metadata": {},
     "output_type": "execute_result",
     "execution_count": 10
    }
   ],
   "source": [
    "example.index(\"Py\")"
   ]
  },
  {
   "cell_type": "markdown",
   "metadata": {
    "colab_type": "text",
    "id": "ZDAUXFKjfB1S",
    "slideshow": {
     "slide_type": "fragment"
    }
   },
   "source": [
    "## И в чем тогда разница между index и find?"
   ]
  },
  {
   "cell_type": "code",
   "execution_count": 11,
   "metadata": {
    "colab": {},
    "colab_type": "code",
    "id": "7rsV1s4WfB1U",
    "outputId": "fd4cd093-8ac5-4484-8470-3c9addb1ac2a",
    "slideshow": {
     "slide_type": "fragment"
    },
    "pycharm": {
     "is_executing": false
    }
   },
   "outputs": [
    {
     "traceback": [
      "\u001b[0;31m---------------------------------------------------------------------------\u001b[0m",
      "\u001b[0;31mValueError\u001b[0m                                Traceback (most recent call last)",
      "\u001b[0;32m<ipython-input-11-d70dd3ce1be8>\u001b[0m in \u001b[0;36m<module>\u001b[0;34m\u001b[0m\n\u001b[0;32m----> 1\u001b[0;31m \u001b[0mexample\u001b[0m\u001b[0;34m.\u001b[0m\u001b[0mindex\u001b[0m\u001b[0;34m(\u001b[0m\u001b[0;34m\"Snake\"\u001b[0m\u001b[0;34m)\u001b[0m\u001b[0;34m\u001b[0m\u001b[0m\n\u001b[0m\u001b[1;32m      2\u001b[0m \u001b[0;34m\u001b[0m\u001b[0m\n",
      "\u001b[0;31mValueError\u001b[0m: substring not found"
     ],
     "ename": "ValueError",
     "evalue": "substring not found",
     "output_type": "error"
    }
   ],
   "source": [
    "example.index(\"Snake\")"
   ]
  },
  {
   "cell_type": "markdown",
   "metadata": {
    "colab_type": "text",
    "id": "mcy_jilUfB1Y",
    "slideshow": {
     "slide_type": "fragment"
    }
   },
   "source": [
    "## Упс.. Оказывается, индекс умеет ругаться :("
   ]
  },
  {
   "cell_type": "markdown",
   "metadata": {
    "colab_type": "text",
    "id": "pqnPGQrPfB1Z",
    "slideshow": {
     "slide_type": "slide"
    }
   },
   "source": [
    "# Строки можно конкатенировать"
   ]
  },
  {
   "cell_type": "code",
   "execution_count": null,
   "metadata": {
    "colab": {
     "base_uri": "https://localhost:8080/",
     "height": 52
    },
    "colab_type": "code",
    "id": "t0-DSfwffB1b",
    "outputId": "f1d63890-8638-495b-fafc-30b68cb97a66",
    "slideshow": {
     "slide_type": "fragment"
    },
    "pycharm": {
     "is_executing": false
    }
   },
   "outputs": [],
   "source": [
    "first = \"lenin\"\n",
    "second = \"grib\"\n",
    "third = first + \" \" + second + \" \"\n",
    "print(third)\n",
    "\n",
    "# и склеивать по заданному символу\n",
    "\n",
    "\" \".join([first, second])\n"
   ]
  },
  {
   "cell_type": "markdown",
   "metadata": {
    "colab_type": "text",
    "id": "TfEUtQJGfB1f",
    "slideshow": {
     "slide_type": "subslide"
    }
   },
   "source": [
    "### И дублировать"
   ]
  },
  {
   "cell_type": "code",
   "execution_count": null,
   "metadata": {
    "colab": {},
    "colab_type": "code",
    "id": "hiuek1Q5fB1h",
    "outputId": "48f25fe2-9744-4569-b2b4-f532fd84466e",
    "scrolled": true,
    "slideshow": {
     "slide_type": "fragment"
    },
    "pycharm": {
     "is_executing": false
    }
   },
   "outputs": [],
   "source": [
    "print(third*10, \"\\n\")"
   ]
  },
  {
   "cell_type": "markdown",
   "metadata": {
    "colab_type": "text",
    "id": "GGdIbRR5fB1m",
    "slideshow": {
     "slide_type": "slide"
    }
   },
   "source": [
    "## Строка как торт - слайсинг\n",
    "<img src=\"images/lenin.jpeg\" width=\"500\" height=\"500\">"
   ]
  },
  {
   "cell_type": "code",
   "execution_count": null,
   "metadata": {
    "colab": {
     "base_uri": "https://localhost:8080/",
     "height": 139
    },
    "colab_type": "code",
    "id": "WyeFJxCffB1n",
    "outputId": "d6b7b26f-e041-4fd8-baa0-ecb4b4d16b88",
    "scrolled": true,
    "slideshow": {
     "slide_type": "fragment"
    },
    "pycharm": {
     "is_executing": false
    }
   },
   "outputs": [],
   "source": [
    "print(f\"Слайсим:{repr(third)}\\n\"+third[:5], third[-5:-1], third[::-2]) # шагаем\n",
    "# А еще мы можем разрезать по швам\n",
    "print(\"Применяем метод .split():\", third.split(\" \"))"
   ]
  },
  {
   "cell_type": "markdown",
   "metadata": {
    "colab_type": "text",
    "id": "yTrr4QMA9ZmG",
    "slideshow": {
     "slide_type": "subslide"
    }
   },
   "source": [
    "# Хотим изменений"
   ]
  },
  {
   "cell_type": "code",
   "execution_count": null,
   "metadata": {
    "colab": {
     "base_uri": "https://localhost:8080/",
     "height": 34
    },
    "colab_type": "code",
    "id": "_tY-Hd3m9Z6G",
    "outputId": "cea914fe-401d-41bf-eded-4fd7c2890b37",
    "slideshow": {
     "slide_type": "fragment"
    },
    "pycharm": {
     "is_executing": false
    }
   },
   "outputs": [],
   "source": [
    "third.replace(\"grib \", \"molodec!\")"
   ]
  },
  {
   "cell_type": "markdown",
   "metadata": {
    "colab_type": "text",
    "id": "CiGsB8XxfB1r",
    "slideshow": {
     "slide_type": "subslide"
    }
   },
   "source": [
    "# Балуемся кортежами"
   ]
  },
  {
   "cell_type": "code",
   "execution_count": null,
   "metadata": {
    "colab": {},
    "colab_type": "code",
    "id": "nBFnQ1zwfB1s",
    "outputId": "d210eaa6-f1bc-41db-cf83-4a556b0e2c98",
    "slideshow": {
     "slide_type": "fragment"
    },
    "pycharm": {
     "is_executing": false
    }
   },
   "outputs": [],
   "source": [
    "third.partition(\"nin\")"
   ]
  },
  {
   "cell_type": "markdown",
   "metadata": {
    "colab_type": "text",
    "id": "kvOa1VeMoCXv",
    "slideshow": {
     "slide_type": "slide"
    }
   },
   "source": [
    "# Когда размер имеет значение"
   ]
  },
  {
   "cell_type": "code",
   "execution_count": null,
   "metadata": {
    "colab": {
     "base_uri": "https://localhost:8080/",
     "height": 34
    },
    "colab_type": "code",
    "id": "dT2jTFpwnZ_h",
    "outputId": "0df8664d-ce11-4a74-9608-f9668b6fd20a",
    "slideshow": {
     "slide_type": "fragment"
    },
    "pycharm": {
     "is_executing": false
    }
   },
   "outputs": [],
   "source": [
    "ecclesiastes = \"vanitas vanitatum et omnia vanitas\";\n",
    "print(ecclesiastes.zfill(46))"
   ]
  },
  {
   "cell_type": "code",
   "execution_count": null,
   "metadata": {
    "colab": {
     "base_uri": "https://localhost:8080/",
     "height": 34
    },
    "colab_type": "code",
    "id": "mYSJYE1qoX_S",
    "outputId": "9e4847de-5b56-4a1b-ace1-293505f9d7b8",
    "slideshow": {
     "slide_type": "fragment"
    },
    "pycharm": {
     "is_executing": false
    }
   },
   "outputs": [],
   "source": [
    "ecclesiastes.center(46, \" \")"
   ]
  },
  {
   "cell_type": "code",
   "execution_count": null,
   "metadata": {
    "colab": {
     "base_uri": "https://localhost:8080/",
     "height": 52
    },
    "colab_type": "code",
    "id": "c8Vrzzljo-c5",
    "outputId": "346dc231-e5b4-4cad-837b-1b685bcea2e8",
    "slideshow": {
     "slide_type": "fragment"
    },
    "pycharm": {
     "is_executing": false
    }
   },
   "outputs": [],
   "source": [
    "print(\".ljust(): \", ecclesiastes.ljust(46, \"E\"),\n",
    "      \"\\n.rjust(): \", ecclesiastes.rjust(46, \"E\"))"
   ]
  },
  {
   "cell_type": "markdown",
   "metadata": {
    "colab_type": "text",
    "id": "QEOw1Q6ZCCEk",
    "slideshow": {
     "slide_type": "subslide"
    }
   },
   "source": [
    "# Или так\n",
    "_______________________\n",
    "\n",
    "S.lstrip([chars])\t- удаляем пробельные символы в начале строки\n",
    "\n",
    "S.rstrip([chars])\t- удаляем пробельные символы в конце строки\n",
    "\n",
    "S.strip([chars])\t-удаляем пробельные символы в начале и в конце строки"
   ]
  },
  {
   "cell_type": "markdown",
   "metadata": {
    "colab_type": "text",
    "id": "vFmSKHcxIx9L",
    "slideshow": {
     "slide_type": "subslide"
    }
   },
   "source": [
    "# ~~Cпойлер к дезе~~ \n",
    "Возвращаем количество непересекающихся вхождений подстроки в диапазоне [начало, конец]"
   ]
  },
  {
   "cell_type": "code",
   "execution_count": null,
   "metadata": {
    "colab": {
     "base_uri": "https://localhost:8080/",
     "height": 34
    },
    "colab_type": "code",
    "id": "FOmH6l97EWJm",
    "outputId": "a0e10c46-3e55-4979-8662-856e005965b9",
    "slideshow": {
     "slide_type": "fragment"
    },
    "pycharm": {
     "is_executing": false
    }
   },
   "outputs": [],
   "source": [
    "\n",
    "\"ahahaahauhuhhahahahahahehehehe\".count(\"ah\")"
   ]
  },
  {
   "cell_type": "markdown",
   "metadata": {
    "colab_type": "text",
    "id": "Da6WJQhefB11",
    "slideshow": {
     "slide_type": "slide"
    }
   },
   "source": [
    "# Играем с регистрами"
   ]
  },
  {
   "cell_type": "code",
   "execution_count": null,
   "metadata": {
    "colab": {},
    "colab_type": "code",
    "id": "M3Dfg2WBfB12",
    "slideshow": {
     "slide_type": "fragment"
    },
    "pycharm": {
     "is_executing": false
    }
   },
   "outputs": [],
   "source": [
    "print(\"Upper case -\", third.upper(), \"\\n\",\n",
    "      \"Title -\", third.title(), \"\\n\",\n",
    "     \"Lower case -\", third.lower(), \"\\n\",\n",
    "     \"Capitalize -\", third.capitalize(), \"\\n\"\n",
    "     \"Swapcase - \", third.swapcase())"
   ]
  },
  {
   "cell_type": "code",
   "execution_count": null,
   "metadata": {
    "slideshow": {
     "slide_type": "subslide"
    },
    "pycharm": {
     "is_executing": false
    }
   },
   "outputs": [],
   "source": [
    "def capitalize_name(name):\n",
    "    return name.capitalize()\n",
    "\n",
    "name = \"alice\"\n",
    "f\"{capitalize_name(name)} is my friend\""
   ]
  },
  {
   "cell_type": "markdown",
   "metadata": {
    "colab_type": "text",
    "id": "O8TaAodk-taE",
    "slideshow": {
     "slide_type": "slide"
    }
   },
   "source": [
    "# Ставим диагноз строкам\n",
    "___________________________\n",
    "\n",
    "S.isdigit()\t - состоит ли строка из цифр\n",
    "\n",
    "S.isalpha()\t - состоит ли строка из букв\n",
    "\n",
    "S.isalnum()\t- состоит ли строка из цифр или букв\n",
    "\n",
    "___________\n",
    "S.islower()\t- состоит ли строка из символов в нижнем регистре\n",
    "\n",
    "S.isupper()\t- состоит ли строка из символов в верхнем регистре\n",
    "\n",
    "S.istitle()\tНачинаются ли слова в строке с заглавной буквы\n",
    "___________\n",
    "\n",
    "S.isspace()\t- состоит ли строка из неотображаемых символов (пробел, символ перевода страницы ('\\f'), \"новая строка\" ('\\n'), \"перевод каретки\" ('\\r'), \"горизонтальная табуляция\" ('\\t') и \"вертикальная табуляция\" ('\\v'))\n",
    "___________\n",
    "\n",
    "S.startswith(паттерн)\t - начинается ли строка S с паттерна\n",
    "\n",
    "S.endswith(паттерн)\t- заканчивается ли строка S паттерном\n"
   ]
  },
  {
   "cell_type": "markdown",
   "metadata": {
    "colab_type": "text",
    "id": "ZwoxKdv5fB17",
    "slideshow": {
     "slide_type": "slide"
    }
   },
   "source": [
    "### Так почему же immutable.."
   ]
  },
  {
   "cell_type": "code",
   "execution_count": null,
   "metadata": {
    "colab": {},
    "colab_type": "code",
    "id": "MWZXaoITfB18",
    "outputId": "eca25160-a03f-4036-f190-1a88f0f5c067",
    "scrolled": false,
    "slideshow": {
     "slide_type": "fragment"
    },
    "pycharm": {
     "is_executing": false
    }
   },
   "outputs": [],
   "source": [
    "second[2] = \"ё\""
   ]
  },
  {
   "cell_type": "markdown",
   "metadata": {
    "colab_type": "text",
    "id": "sHJQDHXLfB2C",
    "slideshow": {
     "slide_type": "fragment"
    }
   },
   "source": [
    "__Остается только создавать новые объекты каждый раз, когда мы захотим модифицировать нашу строку__"
   ]
  },
  {
   "cell_type": "code",
   "execution_count": null,
   "metadata": {
    "colab": {},
    "colab_type": "code",
    "id": "PRmCouFRfB2F",
    "outputId": "6fdbfdad-fea3-4f9b-e7b1-1aa62d353b9b",
    "scrolled": false,
    "slideshow": {
     "slide_type": "fragment"
    },
    "pycharm": {
     "is_executing": false
    }
   },
   "outputs": [],
   "source": [
    "replace_result = second.replace(\"i\", \"ё\")\n",
    "print(id(replace_result), id(second))\n",
    "print(second, replace_result)"
   ]
  },
  {
   "cell_type": "markdown",
   "metadata": {
    "colab_type": "text",
    "id": "5hwWGlzmfB2J",
    "slideshow": {
     "slide_type": "slide"
    }
   },
   "source": [
    "# Форматирование строк\n",
    "________________________________\n",
    "\n",
    "\n",
    "### Способ 1, для дедов - % \n",
    "\n",
    "- становится нечитаемым на больших текстах\n",
    "- легко может стать причиной возникновения ошибок"
   ]
  },
  {
   "cell_type": "code",
   "execution_count": null,
   "metadata": {
    "colab": {},
    "colab_type": "code",
    "id": "hX7s5Gj3fB2N",
    "outputId": "434b504c-d4aa-46e3-fc88-2835039311ce",
    "scrolled": true,
    "slideshow": {
     "slide_type": "fragment"
    },
    "pycharm": {
     "is_executing": false
    }
   },
   "outputs": [],
   "source": [
    "price = \"cheap\"\n",
    "name = \"Linus Torvalds\"\n",
    "\"'Talk is %s. Show me the code.' ― %s\" % (price, name)\n"
   ]
  },
  {
   "cell_type": "markdown",
   "metadata": {
    "colab_type": "text",
    "id": "SrRJ-LUxfB2R",
    "slideshow": {
     "slide_type": "subslide"
    }
   },
   "source": [
    "### Способ 2 - .format()\n",
    "_______________________________\n",
    "- появился в Python 2.6\n",
    "- более здоровая альтернатива %-форматированию\n",
    "- все равно вербозный способ"
   ]
  },
  {
   "cell_type": "code",
   "execution_count": null,
   "metadata": {
    "colab": {},
    "colab_type": "code",
    "id": "_A9AHTcFfB2S",
    "outputId": "a8185f63-54a4-4cbf-a64e-2363ca95522c",
    "scrolled": true,
    "slideshow": {
     "slide_type": "fragment"
    },
    "pycharm": {
     "is_executing": false
    }
   },
   "outputs": [],
   "source": [
    "\"'Talk is {}. Show me the code.' ― {}\".format(price, name)"
   ]
  },
  {
   "cell_type": "code",
   "execution_count": null,
   "metadata": {
    "colab": {},
    "colab_type": "code",
    "id": "dpcclzGifB2h",
    "outputId": "47906841-bb73-47eb-8d3b-61f427a97b34",
    "slideshow": {
     "slide_type": "fragment"
    },
    "pycharm": {
     "is_executing": false
    }
   },
   "outputs": [],
   "source": [
    "\"'Talk is {1}. Show me the code.' ― {0}\".format(name, price)"
   ]
  },
  {
   "cell_type": "code",
   "execution_count": null,
   "metadata": {
    "colab": {},
    "colab_type": "code",
    "id": "GOQf8cWAfB2o",
    "outputId": "9473bdab-9023-4342-95f5-a6aa254c19a2",
    "slideshow": {
     "slide_type": "fragment"
    },
    "pycharm": {
     "is_executing": false
    }
   },
   "outputs": [],
   "source": [
    "data = {\"price\": \"cheap\", \"name\": \"Linus Torvalds\"}\n",
    "\"'Talk is {price}. Show me the code.' ― {name}\".format(**data)"
   ]
  },
  {
   "cell_type": "markdown",
   "metadata": {
    "colab_type": "text",
    "id": "kiD6hsA_fB2t",
    "slideshow": {
     "slide_type": "subslide"
    }
   },
   "source": [
    "### Способ 3 - just one simple.. great magnificent f \n",
    "- царствование с Python 3.6 версии\n",
    "- самый быстрый способ форматирования\n",
    "- подробности в PEP 498\n",
    "<img src=\"images/f.jpeg\" width=\"300\" height=\"300\">"
   ]
  },
  {
   "cell_type": "code",
   "execution_count": null,
   "metadata": {
    "colab": {},
    "colab_type": "code",
    "id": "B7tbBgFjfB2v",
    "outputId": "05f10a5d-e2f4-49a2-f77c-19bbb6a4ccc9",
    "slideshow": {
     "slide_type": "fragment"
    },
    "pycharm": {
     "is_executing": false
    }
   },
   "outputs": [],
   "source": [
    "f\"'Talk is {price}. Show me the code.' ― {name}\" \n"
   ]
  },
  {
   "cell_type": "markdown",
   "metadata": {
    "colab_type": "text",
    "id": "JO39mSVEfB23",
    "slideshow": {
     "slide_type": "slide"
    }
   },
   "source": [
    "### Включаем критическое мышление"
   ]
  },
  {
   "cell_type": "code",
   "execution_count": null,
   "metadata": {
    "colab": {},
    "colab_type": "code",
    "id": "u-3E8wJJfB24",
    "outputId": "308a9a4a-7563-4b4b-b4c9-39e10dc9c2b8",
    "slideshow": {
     "slide_type": "fragment"
    },
    "pycharm": {
     "is_executing": false
    }
   },
   "outputs": [],
   "source": [
    "import timeit\n",
    "pc_way = timeit.timeit(\"\"\"price = \"cheap\"\n",
    "name = \"Linus Torvalds\"\n",
    "'Talk is %s. Show me the code. ― %s' % (price, name)\"\"\", number=100000)\n",
    "format_way = timeit.timeit(\"\"\"price = \"cheap\"\n",
    "name = \"Linus Torvalds\"\n",
    "'Talk is {}. Show me the code. ― {}'.format(price, name) \"\"\", number=100000)\n",
    "f_way = timeit.timeit(\"\"\"price = \"cheap\"\n",
    "name = \"Linus Torvalds\"\n",
    "f'Talk is {price}. Show me the code. ― {name}'\"\"\", number=100000)\n",
    "print(\"%-форматирование:\", pc_way, \"\\n\",\n",
    "     \"Метод .format()\", format_way, \"\\n\",\n",
    "     \"f-форматирование:\", f_way, \"\\n\")"
   ]
  },
  {
   "cell_type": "markdown",
   "metadata": {
    "colab_type": "text",
    "id": "9hVeFk2qfB2-",
    "slideshow": {
     "slide_type": "subslide"
    }
   },
   "source": [
    "### А еще... Даже строка умеет в математику"
   ]
  },
  {
   "cell_type": "code",
   "execution_count": null,
   "metadata": {
    "colab": {},
    "colab_type": "code",
    "id": "Ee8_sPhkfB2_",
    "outputId": "327d3249-2fce-445d-e765-8848a3dc5fbe",
    "slideshow": {
     "slide_type": "fragment"
    },
    "pycharm": {
     "is_executing": false
    }
   },
   "outputs": [],
   "source": [
    "f\"{2 * 46}\""
   ]
  },
  {
   "cell_type": "markdown",
   "metadata": {
    "slideshow": {
     "slide_type": "slide"
    }
   },
   "source": [
    "### Итак, мы ~~вспомнили~~ узнали\n",
    "- Определение строк и методов\n",
    "- Методы строк\n",
    " - Отличия index() и find()\n",
    " - Конкатенация и дублирование строк\n",
    " - Слайсинг\n",
    " - Методы смены регистров \n",
    "- Форматирование строк\n",
    " - %-форматирование\n",
    " - Метод .format()\n",
    " - Божественный f"
   ]
  },
  {
   "cell_type": "markdown",
   "metadata": {},
   "source": [
    "<img src=\"images/me.jpeg\" width=\"400\" height=\"400\">"
   ]
  },
  {
   "cell_type": "markdown",
   "metadata": {
    "colab_type": "text",
    "id": "nPtt_iYxGIeq",
    "slideshow": {
     "slide_type": "slide"
    }
   },
   "source": [
    "# Список - упорядоченная изменяемая коллекция объектов произвольных типов. Динамический массив ссылок."
   ]
  },
  {
   "cell_type": "markdown",
   "metadata": {
    "colab_type": "text",
    "id": "AH4XB5DRGIez",
    "slideshow": {
     "slide_type": "slide"
    }
   },
   "source": [
    "#### Инициализировать пустой список можно через конструктор или через литералы"
   ]
  },
  {
   "cell_type": "code",
   "execution_count": null,
   "metadata": {
    "colab": {},
    "colab_type": "code",
    "id": "UU96aY0-GIe6",
    "slideshow": {
     "slide_type": "fragment"
    },
    "pycharm": {
     "is_executing": false
    }
   },
   "outputs": [],
   "source": [
    "# через литералы\n",
    "a = []\n",
    "# через конструктор\n",
    "b = list()"
   ]
  },
  {
   "cell_type": "markdown",
   "metadata": {
    "colab_type": "text",
    "id": "WnOAmQWnGIfD",
    "slideshow": {
     "slide_type": "subslide"
    }
   },
   "source": [
    "### Список может содержать любое колличество любых объектов (в т.ч. и вложенные списки) или не содержать ничего"
   ]
  },
  {
   "cell_type": "code",
   "execution_count": null,
   "metadata": {
    "colab": {},
    "colab_type": "code",
    "id": "ea-vedM5GIfG",
    "slideshow": {
     "slide_type": "fragment"
    },
    "pycharm": {
     "is_executing": false
    }
   },
   "outputs": [],
   "source": [
    "snake = list('hat')\n",
    "noble_programmer = [\"Knuth\", \"Tanenbaum\", \"bike\"]\n",
    "matrix = [[1, 2], [3, 4]]\n",
    "hungry_list = []"
   ]
  },
  {
   "cell_type": "markdown",
   "metadata": {
    "colab_type": "text",
    "id": "e7Eth7oKGIfQ",
    "slideshow": {
     "slide_type": "subslide"
    }
   },
   "source": [
    "### Важно: при создании списка с начальным значением не происходит копирования этого значения"
   ]
  },
  {
   "cell_type": "code",
   "execution_count": null,
   "metadata": {
    "colab": {},
    "colab_type": "code",
    "id": "0xWCCEAKGIfR",
    "outputId": "13104ee3-7826-4eab-97a8-f18c8545dedd",
    "slideshow": {
     "slide_type": "fragment"
    },
    "pycharm": {
     "is_executing": false
    }
   },
   "outputs": [],
   "source": [
    "matrix = [[0]] * 3\n",
    "matrix"
   ]
  },
  {
   "cell_type": "code",
   "execution_count": null,
   "metadata": {
    "colab": {},
    "colab_type": "code",
    "id": "bEw4hGN3GIfd",
    "outputId": "44827463-e48b-435e-a209-2af4042b31e4",
    "slideshow": {
     "slide_type": "fragment"
    },
    "pycharm": {
     "is_executing": false
    }
   },
   "outputs": [],
   "source": [
    "matrix[0][0] = 'Null'\n",
    "matrix"
   ]
  },
  {
   "cell_type": "markdown",
   "metadata": {
    "colab_type": "text",
    "id": "WR7_ahbnGIfr",
    "slideshow": {
     "slide_type": "subslide"
    }
   },
   "source": [
    "Как правильно?"
   ]
  },
  {
   "cell_type": "markdown",
   "metadata": {
    "colab_type": "text",
    "id": "DQdijjehGIfx",
    "slideshow": {
     "slide_type": "slide"
    }
   },
   "source": [
    "## Основные методы list"
   ]
  },
  {
   "cell_type": "markdown",
   "metadata": {
    "colab_type": "text",
    "id": "vWU6QYXeGIf0",
    "slideshow": {
     "slide_type": "fragment"
    }
   },
   "source": [
    "### Добавление элементов\n",
    "\n",
    "- __append__ и __extend__ - добавляют в конец списка один элемент или некоторую последовательность."
   ]
  },
  {
   "cell_type": "code",
   "execution_count": null,
   "metadata": {
    "colab": {},
    "colab_type": "code",
    "id": "78YfNdRaGIf4",
    "outputId": "7cf71e19-e264-4e0a-cfa6-45a25a2cbe68",
    "slideshow": {
     "slide_type": "fragment"
    },
    "pycharm": {
     "is_executing": false
    }
   },
   "outputs": [],
   "source": [
    "l = [1, 2, 3]\n",
    "l.append(4)\n",
    "l.extend((5, 6))\n",
    "l"
   ]
  },
  {
   "cell_type": "markdown",
   "metadata": {
    "colab_type": "text",
    "id": "mUEhsuagGIgE",
    "slideshow": {
     "slide_type": "fragment"
    }
   },
   "source": [
    "- вставить элемент перед элементом с указанным индексом можно с помощью метода __insert__"
   ]
  },
  {
   "cell_type": "code",
   "execution_count": null,
   "metadata": {
    "colab": {},
    "colab_type": "code",
    "id": "ADqNbZQUGIgI",
    "outputId": "1b2e36cf-cd8d-483c-dd51-c1cef9c89f3e",
    "slideshow": {
     "slide_type": "fragment"
    },
    "pycharm": {
     "is_executing": false
    }
   },
   "outputs": [],
   "source": [
    "l = [1, 2, 3]\n",
    "l.insert(0, 'Null')\n",
    "print(l)\n",
    "l.insert(-2, 'some')\n",
    "print(l)"
   ]
  },
  {
   "cell_type": "markdown",
   "metadata": {
    "colab_type": "text",
    "id": "vei1rPp_GIgV",
    "slideshow": {
     "slide_type": "subslide"
    }
   },
   "source": [
    "### Замена\n",
    "- можно заменить целую последовательность на другую:"
   ]
  },
  {
   "cell_type": "code",
   "execution_count": null,
   "metadata": {
    "colab": {},
    "colab_type": "code",
    "id": "yEWJMeJFGIgW",
    "outputId": "1f364488-0dd7-4102-9d40-93a5248fe068",
    "slideshow": {
     "slide_type": "fragment"
    },
    "pycharm": {
     "is_executing": false
    }
   },
   "outputs": [],
   "source": [
    "l = [1, 2, 3]\n",
    "l[:2] = [0] * 2\n",
    "l"
   ]
  },
  {
   "cell_type": "markdown",
   "metadata": {
    "colab_type": "text",
    "id": "TNtv3DTjGIgf",
    "slideshow": {
     "slide_type": "subslide"
    }
   },
   "source": [
    "### Конкатенация списков\n",
    "\n",
    "- результат конкатенации списка - всегда новый список."
   ]
  },
  {
   "cell_type": "code",
   "execution_count": null,
   "metadata": {
    "colab": {},
    "colab_type": "code",
    "id": "F55oP5DUGIgj",
    "outputId": "26cbfe01-33ba-4d8b-b74f-1043aaf67363",
    "slideshow": {
     "slide_type": "fragment"
    },
    "pycharm": {
     "is_executing": false
    }
   },
   "outputs": [],
   "source": [
    "l1 = [1, 2]\n",
    "l2 = [3]\n",
    "print(id(l1), id(l2))\n",
    "print(id(l1 + l2))"
   ]
  },
  {
   "cell_type": "markdown",
   "metadata": {
    "colab_type": "text",
    "id": "ozTn8R-_GIgt",
    "slideshow": {
     "slide_type": "fragment"
    }
   },
   "source": [
    "Но есть возможность __inplace__ конкатенации "
   ]
  },
  {
   "cell_type": "code",
   "execution_count": null,
   "metadata": {
    "colab": {},
    "colab_type": "code",
    "id": "oqUfknnhGIgx",
    "outputId": "4d8f4b19-751a-4bd3-a6a8-fdf0cbc7501a",
    "slideshow": {
     "slide_type": "fragment"
    },
    "pycharm": {
     "is_executing": false
    }
   },
   "outputs": [],
   "source": [
    "l1 = [1, 2]\n",
    "l2 = [3]\n",
    "print(id(l1), id(l2))\n",
    "l1 += l2 \n",
    "print(id(l1))"
   ]
  },
  {
   "cell_type": "markdown",
   "metadata": {
    "colab_type": "text",
    "id": "MPS4ZGTFGIg4",
    "slideshow": {
     "slide_type": "subslide"
    }
   },
   "source": [
    "### Удаление элемента\n",
    "\n",
    "- удалить элемент или целую последовательность из списка можно с помощью оператора __del__, указав индекс."
   ]
  },
  {
   "cell_type": "code",
   "execution_count": null,
   "metadata": {
    "colab": {},
    "colab_type": "code",
    "id": "RSTMF6dtGIg8",
    "outputId": "c61875fd-cbf6-4c67-8630-864dfb8c01b3",
    "slideshow": {
     "slide_type": "fragment"
    },
    "pycharm": {
     "is_executing": false
    }
   },
   "outputs": [],
   "source": [
    "l = [1, 2, 3]\n",
    "del l[:2]\n",
    "l"
   ]
  },
  {
   "cell_type": "code",
   "execution_count": null,
   "metadata": {
    "colab": {},
    "colab_type": "code",
    "id": "mCSC1fk6GIhH",
    "outputId": "96cda554-f082-4cfe-d827-5eab740489a2",
    "slideshow": {
     "slide_type": "fragment"
    },
    "pycharm": {
     "is_executing": false
    }
   },
   "outputs": [],
   "source": [
    "l = [1, 2, 3]\n",
    "del l[:]\n",
    "l"
   ]
  },
  {
   "cell_type": "markdown",
   "metadata": {
    "colab_type": "text",
    "id": "zpqNTRSpGIhX",
    "slideshow": {
     "slide_type": "subslide"
    }
   },
   "source": [
    "- с помощью метода __pop__ можно получить в качестве возвращаемого значения удаляемый элемент"
   ]
  },
  {
   "cell_type": "code",
   "execution_count": null,
   "metadata": {
    "colab": {},
    "colab_type": "code",
    "id": "rU5lz2e2GIhY",
    "outputId": "88f0dbb1-a1c5-4092-858f-b4e57a61bcaf",
    "slideshow": {
     "slide_type": "fragment"
    },
    "pycharm": {
     "is_executing": false
    }
   },
   "outputs": [],
   "source": [
    "l = [1, 2, 3]\n",
    "first = l.pop(0)\n",
    "print(first, l)"
   ]
  },
  {
   "cell_type": "markdown",
   "metadata": {
    "colab_type": "text",
    "id": "H5UzXhH4GIhf",
    "slideshow": {
     "slide_type": "fragment"
    }
   },
   "source": [
    "- удалить первое вхождение элемента в список"
   ]
  },
  {
   "cell_type": "code",
   "execution_count": null,
   "metadata": {
    "colab": {},
    "colab_type": "code",
    "id": "xKfXPuKZGIhk",
    "outputId": "9c335f3e-462b-4acc-9c29-0068732e1224",
    "scrolled": true,
    "slideshow": {
     "slide_type": "fragment"
    },
    "pycharm": {
     "is_executing": false
    }
   },
   "outputs": [],
   "source": [
    "kebab = [1, 1, 3]\n",
    "kebab.remove(1)\n",
    "kebab"
   ]
  },
  {
   "cell_type": "markdown",
   "metadata": {
    "colab_type": "text",
    "id": "7Le2oJpDGIhz",
    "slideshow": {
     "slide_type": "subslide"
    }
   },
   "source": [
    "### Несколько других полезных методов"
   ]
  },
  {
   "cell_type": "markdown",
   "metadata": {
    "colab_type": "text",
    "id": "QxO1P63RGIh1",
    "slideshow": {
     "slide_type": "fragment"
    }
   },
   "source": [
    "__list.index(x, [start [, end]])__\n",
    "\n",
    "Возвращает положение первого элемента со значением x (при этом поиск ведется от start до end)"
   ]
  },
  {
   "cell_type": "code",
   "execution_count": null,
   "metadata": {
    "slideshow": {
     "slide_type": "fragment"
    },
    "pycharm": {
     "is_executing": false
    }
   },
   "outputs": [],
   "source": [
    "l = [1, 2, 3]\n",
    "l.index(1)"
   ]
  },
  {
   "cell_type": "markdown",
   "metadata": {
    "slideshow": {
     "slide_type": "fragment"
    }
   },
   "source": [
    "__Мальчик__: оборачивает все в try;\n",
    "\n",
    "__Мужчина__: знает, что и так все будет хорошо"
   ]
  },
  {
   "cell_type": "code",
   "execution_count": null,
   "metadata": {
    "colab": {},
    "colab_type": "code",
    "id": "Jm083JkpGIh-",
    "outputId": "9852796a-5383-4416-f42a-1ed3dccff633",
    "slideshow": {
     "slide_type": "fragment"
    },
    "pycharm": {
     "is_executing": false
    }
   },
   "outputs": [],
   "source": [
    "l = [1, 2, 3]\n",
    "l.index(4)"
   ]
  },
  {
   "cell_type": "markdown",
   "metadata": {
    "colab_type": "text",
    "id": "0TTkEyOyGIiE",
    "slideshow": {
     "slide_type": "subslide"
    }
   },
   "source": [
    "__list.count(x)__\n",
    "Возвращает количество элементов со значением x"
   ]
  },
  {
   "cell_type": "code",
   "execution_count": null,
   "metadata": {
    "colab": {},
    "colab_type": "code",
    "id": "7lTfA_FLGIiH",
    "outputId": "0ed00813-ccbd-4305-c567-699401ebc7e5",
    "slideshow": {
     "slide_type": "fragment"
    },
    "pycharm": {
     "is_executing": false
    }
   },
   "outputs": [],
   "source": [
    "l = [1, 1, 1, 2, 3]\n",
    "l.count(1)"
   ]
  },
  {
   "cell_type": "code",
   "execution_count": null,
   "metadata": {
    "colab": {},
    "colab_type": "code",
    "id": "vO0GRnP2GIiR",
    "outputId": "5e3640d3-8cef-42a6-b709-be3f73b201a4",
    "slideshow": {
     "slide_type": "fragment"
    },
    "pycharm": {
     "is_executing": false
    }
   },
   "outputs": [],
   "source": [
    "l = [1, 1, 1, 2, 3]\n",
    "l.count(4)"
   ]
  },
  {
   "cell_type": "markdown",
   "metadata": {
    "colab_type": "text",
    "id": "eGUtXxLlGIiW",
    "slideshow": {
     "slide_type": "slide"
    }
   },
   "source": [
    "### Как перевернуть список?"
   ]
  },
  {
   "cell_type": "code",
   "execution_count": null,
   "metadata": {
    "colab": {},
    "colab_type": "code",
    "id": "aGQ0DG_1GIiY",
    "slideshow": {
     "slide_type": "fragment"
    },
    "pycharm": {
     "is_executing": false
    }
   },
   "outputs": [],
   "source": [
    "l = [1, 2, 3]\n",
    "a = l.reverse()\n",
    "print(a)\n",
    "l"
   ]
  },
  {
   "cell_type": "code",
   "execution_count": null,
   "metadata": {
    "colab": {},
    "colab_type": "code",
    "id": "Kpufrl3KGIie",
    "outputId": "150b3173-a619-44b7-d34f-97c8cca9c937",
    "scrolled": true,
    "slideshow": {
     "slide_type": "fragment"
    },
    "pycharm": {
     "is_executing": false
    }
   },
   "outputs": [],
   "source": [
    "l = [1, 2, 3]\n",
    "lr = l[::-1]\n",
    "lr"
   ]
  },
  {
   "cell_type": "code",
   "execution_count": null,
   "metadata": {
    "colab": {},
    "colab_type": "code",
    "id": "sQCDosVuGIij",
    "outputId": "758f25e4-742b-421b-93c8-b96378825a4c",
    "slideshow": {
     "slide_type": "fragment"
    },
    "pycharm": {
     "is_executing": false
    }
   },
   "outputs": [],
   "source": [
    "l = [1, 2, 3]\n",
    "lr = reversed(l)\n",
    "lr"
   ]
  },
  {
   "cell_type": "markdown",
   "metadata": {
    "colab_type": "text",
    "id": "00egt4WeGIin",
    "slideshow": {
     "slide_type": "subslide"
    }
   },
   "source": [
    "### Как сортировать список ?"
   ]
  },
  {
   "cell_type": "code",
   "execution_count": null,
   "metadata": {
    "colab": {},
    "colab_type": "code",
    "id": "0rL5G5dLGIip",
    "outputId": "98f18d3f-ca22-4ca9-b561-092183faa3c5",
    "slideshow": {
     "slide_type": "fragment"
    },
    "pycharm": {
     "is_executing": false
    }
   },
   "outputs": [],
   "source": [
    "l = [3, 1, 2]\n",
    "l.sort()\n",
    "l"
   ]
  },
  {
   "cell_type": "code",
   "execution_count": null,
   "metadata": {
    "colab": {},
    "colab_type": "code",
    "id": "Ifs2_5X3GIix",
    "outputId": "2584b219-8293-4626-ad07-39bcd43bbd92",
    "slideshow": {
     "slide_type": "fragment"
    },
    "pycharm": {
     "is_executing": false
    }
   },
   "outputs": [],
   "source": [
    "l = [3, 1, 2]\n",
    "ls = sorted(l)\n",
    "ls"
   ]
  },
  {
   "cell_type": "markdown",
   "metadata": {
    "colab_type": "text",
    "id": "eOTlaq_VGIi3",
    "slideshow": {
     "slide_type": "subslide"
    }
   },
   "source": [
    "Функции __sorted__ и методу __sort__ можно опционально указать направление сортировки, а также функцию-ключ"
   ]
  },
  {
   "cell_type": "code",
   "execution_count": null,
   "metadata": {
    "colab": {},
    "colab_type": "code",
    "id": "hXqzwAqCGIi4",
    "outputId": "e9e92233-58d5-4c1c-c9ab-011f78b4eed9",
    "slideshow": {
     "slide_type": "fragment"
    },
    "pycharm": {
     "is_executing": false
    }
   },
   "outputs": [],
   "source": [
    "l = [3, 4, 2, 1]\n",
    "l.sort(key=lambda x: x % 2, reverse=True)\n",
    "l"
   ]
  },
  {
   "cell_type": "markdown",
   "metadata": {
    "slideshow": {
     "slide_type": "fragment"
    }
   },
   "source": [
    "Сортировка и сравнение в Python 3.х не конвертирует типы, в отличии от Python 2.x"
   ]
  },
  {
   "cell_type": "code",
   "execution_count": null,
   "metadata": {
    "slideshow": {
     "slide_type": "fragment"
    },
    "pycharm": {
     "is_executing": false
    }
   },
   "outputs": [],
   "source": [
    "a = [2, 1, '1']\n",
    "a.sort()"
   ]
  },
  {
   "cell_type": "markdown",
   "metadata": {
    "colab_type": "text",
    "id": "iXzT2FqKGIi7",
    "slideshow": {
     "slide_type": "slide"
    }
   },
   "source": [
    "### Генераторы списков aka list comprehensions"
   ]
  },
  {
   "cell_type": "markdown",
   "metadata": {
    "colab_type": "text",
    "id": "lRw-R7rBGIi8",
    "slideshow": {
     "slide_type": "fragment"
    }
   },
   "source": [
    "Cпециальная синтаксическая конструкция, которая позволяет по определенным правилам создавать заполненные списки. Их удобство заключается в более компактной записи программного кода в сравнении с созданием списка обычным способом."
   ]
  },
  {
   "cell_type": "markdown",
   "metadata": {
    "colab_type": "text",
    "id": "7uc_EABDGIi_",
    "slideshow": {
     "slide_type": "fragment"
    }
   },
   "source": [
    "Генератор списков - способ построить новый список, применяя выражение к каждому элементу последовательности. Генераторы списков очень похожи на цикл __for__."
   ]
  },
  {
   "cell_type": "code",
   "execution_count": null,
   "metadata": {
    "colab": {},
    "colab_type": "code",
    "id": "b_pt6J2lGIjB",
    "outputId": "38e472f7-2f0c-4861-af35-fee9f20fb54e",
    "slideshow": {
     "slide_type": "fragment"
    },
    "pycharm": {
     "is_executing": false
    }
   },
   "outputs": [],
   "source": [
    "a = []\n",
    "for i in range(10):\n",
    "    a.append(i)\n",
    "\n",
    "a_gen = [i for i in range(10)]\n",
    "a == a_gen"
   ]
  },
  {
   "cell_type": "markdown",
   "metadata": {
    "colab_type": "text",
    "id": "cMaX7ebiGIjN",
    "slideshow": {
     "slide_type": "subslide"
    }
   },
   "source": [
    "Папа: __SETL__\n",
    "\n",
    "Сын: __ABC__\n",
    "\n",
    "Внук: __Python__"
   ]
  },
  {
   "cell_type": "code",
   "execution_count": null,
   "metadata": {
    "colab": {},
    "colab_type": "code",
    "id": "cT0opxH4GIjQ",
    "outputId": "d80c492a-a9f8-4d06-a59e-bcdd21601c39",
    "slideshow": {
     "slide_type": "fragment"
    },
    "pycharm": {
     "is_executing": false
    }
   },
   "outputs": [],
   "source": [
    "[x ** 2 for x in range(10) if x % 2 == 1]"
   ]
  },
  {
   "cell_type": "markdown",
   "metadata": {
    "colab_type": "text",
    "id": "fmABUF_jGIja",
    "slideshow": {
     "slide_type": "fragment"
    }
   },
   "source": [
    "Компактная альтернатива комбинациям __map__ и __filter__"
   ]
  },
  {
   "cell_type": "code",
   "execution_count": null,
   "metadata": {
    "colab": {},
    "colab_type": "code",
    "id": "UK4rUFqAGIjb",
    "outputId": "c4229c72-6e76-48e8-edab-428aa6cba827",
    "slideshow": {
     "slide_type": "fragment"
    },
    "pycharm": {
     "is_executing": false
    }
   },
   "outputs": [],
   "source": [
    "list(map(lambda x: x ** 2,\n",
    "         filter(lambda x: x % 2 == 1,\n",
    "                range(10))))"
   ]
  },
  {
   "cell_type": "markdown",
   "metadata": {
    "colab_type": "text",
    "id": "C9OhaKeoGIjg",
    "slideshow": {
     "slide_type": "subslide"
    }
   },
   "source": [
    "Могут быть вложенными"
   ]
  },
  {
   "cell_type": "code",
   "execution_count": null,
   "metadata": {
    "colab": {},
    "colab_type": "code",
    "id": "k_7WbImWGIjl",
    "outputId": "8df4d16c-7f4b-405b-dd44-fbe584abf5a0",
    "slideshow": {
     "slide_type": "fragment"
    },
    "pycharm": {
     "is_executing": false
    }
   },
   "outputs": [],
   "source": [
    "[[j for j in range(5)] for i in range(5)]"
   ]
  },
  {
   "cell_type": "code",
   "execution_count": null,
   "metadata": {
    "colab": {},
    "colab_type": "code",
    "id": "F_meJIPrGIjq",
    "outputId": "d3cee301-a94e-4364-eb6a-dd74e3f804c4",
    "slideshow": {
     "slide_type": "fragment"
    },
    "pycharm": {
     "is_executing": false
    }
   },
   "outputs": [],
   "source": [
    "matrix = [[1, 2, 3], [4, 5], [6, 7, 8, 9]] \n",
    "[val for sublist in matrix for val in sublist] "
   ]
  },
  {
   "cell_type": "markdown",
   "metadata": {
    "colab_type": "text",
    "id": "OqLWkmD3Gjhd",
    "slideshow": {
     "slide_type": "slide"
    }
   },
   "source": [
    "## Slicing"
   ]
  },
  {
   "cell_type": "markdown",
   "metadata": {
    "colab_type": "text",
    "id": "m2rGg8QJG3YV",
    "slideshow": {
     "slide_type": "fragment"
    }
   },
   "source": [
    "Слайсинг позваляет брать слайсы от последовательности через функцию `slice`. Может работать с любом объектом реализующим протокол последовательность (имплементированны методы `__getitem__()` and `__len__()`)\n",
    "\n",
    "Синтаксис\n"
   ]
  },
  {
   "cell_type": "code",
   "execution_count": null,
   "metadata": {
    "colab": {},
    "colab_type": "code",
    "id": "PcWZ9YQfHCHQ",
    "slideshow": {
     "slide_type": "fragment"
    },
    "pycharm": {
     "is_executing": false
    }
   },
   "outputs": [],
   "source": [
    "slice(stop)\n",
    "slice(start, stop, step)"
   ]
  },
  {
   "cell_type": "code",
   "execution_count": null,
   "metadata": {
    "colab": {
     "base_uri": "https://localhost:8080/",
     "height": 68
    },
    "colab_type": "code",
    "id": "1cSCwaJEIkoG",
    "outputId": "20b52125-25d0-4ccc-86cb-59c2a0346f49",
    "slideshow": {
     "slide_type": "subslide"
    },
    "pycharm": {
     "is_executing": false
    }
   },
   "outputs": [],
   "source": [
    "employee = ['Vasya', 'Pupkin', 'senior', '300k/ns']\n",
    "NAME = slice(2)\n",
    "POSITION = slice(2, 3)\n",
    "SALARY = slice(3, None)\n",
    "print(employee[NAME])\n",
    "print(employee[SALARY])\n",
    "print(SALARY)"
   ]
  },
  {
   "cell_type": "markdown",
   "metadata": {
    "colab_type": "text",
    "id": "sFmjkKwTXUBZ",
    "slideshow": {
     "slide_type": "subslide"
    }
   },
   "source": [
    "### Теперь вы знаете:"
   ]
  },
  {
   "cell_type": "markdown",
   "metadata": {
    "colab_type": "text",
    "id": "R6aA4rDgXah8",
    "slideshow": {
     "slide_type": "fragment"
    }
   },
   "source": [
    "* Как создать список любой вложенности\n",
    "* Методы работы со списком\n",
    "* Некоторые build-in функции\n",
    "* Slicing"
   ]
  },
  {
   "cell_type": "markdown",
   "metadata": {
    "slideshow": {
     "slide_type": "slide"
    }
   },
   "source": [
    "<img src=\"./images/cat.jpg\">"
   ]
  },
  {
   "cell_type": "markdown",
   "metadata": {
    "colab_type": "text",
    "id": "prSD8bceGIjt",
    "slideshow": {
     "slide_type": "slide"
    }
   },
   "source": [
    "# ~~Кортеж~~ Tuple"
   ]
  },
  {
   "cell_type": "markdown",
   "metadata": {
    "colab_type": "text",
    "id": "Jk1EdYbGGIjt",
    "slideshow": {
     "slide_type": "fragment"
    }
   },
   "source": [
    "Литералы кортежа - простые скобки. Их можно опускать."
   ]
  },
  {
   "cell_type": "code",
   "execution_count": null,
   "metadata": {
    "colab": {},
    "colab_type": "code",
    "id": "tEX2rt52GIju",
    "slideshow": {
     "slide_type": "fragment"
    },
    "pycharm": {
     "is_executing": false
    }
   },
   "outputs": [],
   "source": [
    "point = 1, 2\n",
    "date = 'may', 22"
   ]
  },
  {
   "cell_type": "markdown",
   "metadata": {
    "colab_type": "text",
    "id": "QShxWrfcGIjy",
    "slideshow": {
     "slide_type": "fragment"
    }
   },
   "source": [
    "Одноэлементый кортеж - всегда в скобках. В противном случае провоцирует трудноотлавливаемвый баг."
   ]
  },
  {
   "cell_type": "markdown",
   "metadata": {
    "colab_type": "text",
    "id": "mHMWUvrPGIj0",
    "slideshow": {
     "slide_type": "subslide"
    }
   },
   "source": [
    "Плохо:"
   ]
  },
  {
   "cell_type": "code",
   "execution_count": null,
   "metadata": {
    "colab": {},
    "colab_type": "code",
    "id": "ktoQkjIiGIj0",
    "outputId": "0c1320e2-d25f-4e83-97b5-3d4bcfd9af1d",
    "slideshow": {
     "slide_type": "fragment"
    },
    "pycharm": {
     "is_executing": false
    }
   },
   "outputs": [],
   "source": [
    "t = 'some',\n",
    "x, = t\n",
    "x"
   ]
  },
  {
   "cell_type": "markdown",
   "metadata": {
    "colab_type": "text",
    "id": "KYOraNGgGIj5",
    "slideshow": {
     "slide_type": "fragment"
    }
   },
   "source": [
    "Нормально:"
   ]
  },
  {
   "cell_type": "code",
   "execution_count": null,
   "metadata": {
    "colab": {},
    "colab_type": "code",
    "id": "DpsYai0iGIj6",
    "outputId": "3b5e0e07-b156-4fa8-87ef-0257f3398fb7",
    "slideshow": {
     "slide_type": "fragment"
    },
    "pycharm": {
     "is_executing": false
    }
   },
   "outputs": [],
   "source": [
    "t = ('some', )\n",
    "[x] = t\n",
    "x"
   ]
  },
  {
   "cell_type": "markdown",
   "metadata": {
    "colab_type": "text",
    "id": "lECQAKvkGIj8",
    "slideshow": {
     "slide_type": "subslide"
    }
   },
   "source": [
    "По сути тоже самое, что и list, но неизменяемый.\n",
    "\n",
    "Зачем?"
   ]
  },
  {
   "cell_type": "markdown",
   "metadata": {
    "colab_type": "text",
    "id": "gURHNl4JGIj9",
    "slideshow": {
     "slide_type": "fragment"
    }
   },
   "source": [
    " * Обезопасить данные от изменения.​\n",
    "\n",
    " * В среднем работает быстрее списка​\n",
    "\n",
    " * Занимает меньше места.​\n",
    "\n",
    " * Могут быть ключем в словаре. Почему ?"
   ]
  },
  {
   "cell_type": "code",
   "execution_count": null,
   "metadata": {
    "colab": {},
    "colab_type": "code",
    "id": "jGsu7qKvGIj-",
    "outputId": "7a1a90c4-1463-4c1a-ae2a-1c6b4fb99c02",
    "scrolled": true,
    "slideshow": {
     "slide_type": "fragment"
    },
    "pycharm": {
     "is_executing": false
    }
   },
   "outputs": [],
   "source": [
    "lst = [10, 20, 30]\n",
    "tpl = (10, 20, 30)\n",
    "print(lst.__sizeof__())\n",
    "print(tpl.__sizeof__())"
   ]
  },
  {
   "cell_type": "markdown",
   "metadata": {
    "colab_type": "text",
    "id": "iXdI7DNzfB5v",
    "slideshow": {
     "slide_type": "subslide"
    }
   },
   "source": [
    "Сравнение кортежей происходит в лексикографическом порядке, длина учитывается только если одна последовательность является префиксом другой"
   ]
  },
  {
   "cell_type": "code",
   "execution_count": null,
   "metadata": {
    "colab": {
     "base_uri": "https://localhost:8080/",
     "height": 34
    },
    "colab_type": "code",
    "id": "oDgJ4fxUHorD",
    "outputId": "521437dc-2d6d-48a1-f169-2011828c4997",
    "slideshow": {
     "slide_type": "fragment"
    },
    "pycharm": {
     "is_executing": false
    }
   },
   "outputs": [],
   "source": [
    "(1,2,3) < (1,2,4)"
   ]
  },
  {
   "cell_type": "code",
   "execution_count": null,
   "metadata": {
    "colab": {
     "base_uri": "https://localhost:8080/",
     "height": 34
    },
    "colab_type": "code",
    "id": "1iMiRCqmHxps",
    "outputId": "b0bbcaaf-dfa3-4db7-89a4-06d50cd0d361",
    "slideshow": {
     "slide_type": "fragment"
    },
    "pycharm": {
     "is_executing": false
    }
   },
   "outputs": [],
   "source": [
    "(1, 2, 3, 4) < (1, 2, 4)"
   ]
  },
  {
   "cell_type": "markdown",
   "metadata": {
    "colab_type": "text",
    "id": "vL24OExeIQy-",
    "slideshow": {
     "slide_type": "fragment"
    }
   },
   "source": [
    "Конкатенировать можно через +, результат всегда новый объект."
   ]
  },
  {
   "cell_type": "markdown",
   "metadata": {
    "colab_type": "text",
    "id": "Job4MoNrGIkB",
    "slideshow": {
     "slide_type": "subslide"
    }
   },
   "source": [
    "### Перевернуть tuple"
   ]
  },
  {
   "cell_type": "code",
   "execution_count": null,
   "metadata": {
    "colab": {},
    "colab_type": "code",
    "id": "GDHPz3pkGIkD",
    "outputId": "77a291ba-cccf-4b9e-8780-d8f3aa320b33",
    "slideshow": {
     "slide_type": "fragment"
    },
    "pycharm": {
     "is_executing": false
    }
   },
   "outputs": [],
   "source": [
    "tuple(reversed((1, 2, 3)))"
   ]
  },
  {
   "cell_type": "code",
   "execution_count": null,
   "metadata": {
    "colab": {},
    "colab_type": "code",
    "id": "vn3FSO76GIkG",
    "outputId": "7c805ed8-b7de-4b5b-f64d-03fa174d8393",
    "slideshow": {
     "slide_type": "fragment"
    },
    "pycharm": {
     "is_executing": false
    }
   },
   "outputs": [],
   "source": [
    "(1, 2, 3)[::-1]"
   ]
  },
  {
   "cell_type": "markdown",
   "metadata": {
    "colab_type": "text",
    "id": "_Lq29M9PGIkV",
    "slideshow": {
     "slide_type": "subslide"
    }
   },
   "source": [
    "### Зачем нужна \"лишняя\" функция reversed ?"
   ]
  },
  {
   "cell_type": "markdown",
   "metadata": {
    "colab_type": "text",
    "id": "jOV_hScBfB54",
    "slideshow": {
     "slide_type": "fragment"
    }
   },
   "source": [
    "* слайс всегда возвращает копию при работе с встроенными коллекциями\n",
    "* `reversed` специализирован для разных типов, способ итерироваться с конца и не платить за это памятью. O(1)"
   ]
  },
  {
   "cell_type": "markdown",
   "metadata": {
    "colab_type": "text",
    "id": "mQzHE7ymfB55",
    "slideshow": {
     "slide_type": "slide"
    }
   },
   "source": [
    "### enumerate"
   ]
  },
  {
   "cell_type": "code",
   "execution_count": null,
   "metadata": {
    "colab": {},
    "colab_type": "code",
    "id": "_Pb7FmobfB56",
    "outputId": "42936322-c401-4ada-9cad-7022d97d45c1",
    "slideshow": {
     "slide_type": "fragment"
    },
    "pycharm": {
     "is_executing": false
    }
   },
   "outputs": [],
   "source": [
    "my_list = ['apple', 'banana', 'grapes', 'pear']\n",
    "for c, value in enumerate(my_list, 1):\n",
    "    print(c, value)"
   ]
  },
  {
   "cell_type": "markdown",
   "metadata": {
    "colab_type": "text",
    "id": "TwiYI06VfB57",
    "slideshow": {
     "slide_type": "subslide"
    }
   },
   "source": [
    "Предпочитай итерацию по объекту циклам со счётчиком. Ошибка на 1 в индексе --- это классика. Если же индекс требуется, помни про enumerate"
   ]
  },
  {
   "cell_type": "code",
   "execution_count": null,
   "metadata": {
    "colab": {},
    "colab_type": "code",
    "id": "GZ8brRUGfB57",
    "slideshow": {
     "slide_type": "fragment"
    },
    "pycharm": {
     "is_executing": false
    }
   },
   "outputs": [],
   "source": [
    "# Плохо\n",
    "for i in range(len(xs)) :\n",
    "    x = xs[i]\n",
    "\n",
    "# Лучше\n",
    "for x in xs:\n",
    "    ...\n",
    "\n",
    "# Или\n",
    "for i, x in enumerate(xs):\n",
    "    ..."
   ]
  },
  {
   "cell_type": "markdown",
   "metadata": {
    "colab_type": "text",
    "id": "dhjyNSbszAUk",
    "slideshow": {
     "slide_type": "fragment"
    }
   },
   "source": [
    "#### Рекомендую ознакомиться со всем списком [встроенных функций](https://docs.python.org/3/library/functions.html)"
   ]
  },
  {
   "cell_type": "markdown",
   "metadata": {
    "colab_type": "text",
    "id": "x-OryYaRGIkV",
    "slideshow": {
     "slide_type": "slide"
    }
   },
   "source": [
    "### tuple vs list"
   ]
  },
  {
   "cell_type": "markdown",
   "metadata": {
    "colab_type": "text",
    "id": "7g3P2AIRGIkW",
    "slideshow": {
     "slide_type": "fragment"
    }
   },
   "source": [
    "__list__\n",
    "* Mutable\n",
    "\n",
    "* Медленнее\n",
    "\n",
    "* Семантически гомогенная последовательность\n",
    "\n",
    "* Unhashable\n"
   ]
  },
  {
   "cell_type": "markdown",
   "metadata": {
    "colab_type": "text",
    "id": "CZOXy1AtGIkX",
    "slideshow": {
     "slide_type": "fragment"
    }
   },
   "source": [
    "__tuple__\n",
    "* Immutable\n",
    "\n",
    "* Быстрее\n",
    "\n",
    "* Семантически гетерогенная структура данных\n",
    "\n",
    "* Hashable\n"
   ]
  },
  {
   "cell_type": "markdown",
   "metadata": {
    "colab_type": "text",
    "id": "OgBJlLD9GIkY",
    "slideshow": {
     "slide_type": "slide"
    }
   },
   "source": [
    "### hashable"
   ]
  },
  {
   "cell_type": "markdown",
   "metadata": {
    "colab_type": "text",
    "id": "4wjeESTcGIkY",
    "slideshow": {
     "slide_type": "subslide"
    }
   },
   "source": [
    "Объект будет `__hashable__` если у него сть некоторое хеш-значение, которое не меняется на протяжении жизни этого объекта (получают через метод `__hash__`), и его можно сравнить с другими объектами (реализован метод `__eq__` или `__cmp__`). Хешируемые объекты, которые считаются одинаковыми должны иметь одинаковое хэш значение. "
   ]
  },
  {
   "cell_type": "code",
   "execution_count": null,
   "metadata": {
    "colab": {},
    "colab_type": "code",
    "id": "FC5EEzyPGIkb",
    "outputId": "6dd7afdb-6cfb-4341-b6e3-33774e65abd6",
    "slideshow": {
     "slide_type": "fragment"
    },
    "pycharm": {
     "is_executing": false
    }
   },
   "outputs": [],
   "source": [
    "a = (1, 2, 3)\n",
    "c = (1, 2, 3)\n",
    "a == c"
   ]
  },
  {
   "cell_type": "code",
   "execution_count": null,
   "metadata": {
    "colab": {},
    "colab_type": "code",
    "id": "kiH3iShrGIke",
    "outputId": "0cc0b8d8-7cad-4385-aa53-803e0a38f536",
    "slideshow": {
     "slide_type": "fragment"
    },
    "pycharm": {
     "is_executing": false
    }
   },
   "outputs": [],
   "source": [
    "a.__hash__() == c.__hash__()"
   ]
  },
  {
   "cell_type": "code",
   "execution_count": null,
   "metadata": {
    "colab": {},
    "colab_type": "code",
    "id": "F5u4OFEeGIkk",
    "outputId": "26a165a1-fa99-400e-edfb-207d09e94a10",
    "slideshow": {
     "slide_type": "fragment"
    },
    "pycharm": {
     "is_executing": false
    }
   },
   "outputs": [],
   "source": [
    "id(a) != id(c)"
   ]
  },
  {
   "cell_type": "markdown",
   "metadata": {
    "colab_type": "text",
    "id": "mk6X31RhGIkp",
    "slideshow": {
     "slide_type": "subslide"
    }
   },
   "source": [
    "#### Вопрос: что будет в словаре?"
   ]
  },
  {
   "cell_type": "code",
   "execution_count": null,
   "metadata": {
    "colab": {},
    "colab_type": "code",
    "id": "SaeywRbUGIkq",
    "slideshow": {
     "slide_type": "fragment"
    },
    "pycharm": {
     "is_executing": false
    }
   },
   "outputs": [],
   "source": [
    "d = {\n",
    "    1: '1',\n",
    "    1.0: '1.0',\n",
    "    True: 'True'\n",
    "}"
   ]
  },
  {
   "cell_type": "markdown",
   "metadata": {
    "colab_type": "text",
    "id": "BAldCH3mGIks",
    "slideshow": {
     "slide_type": "slide"
    }
   },
   "source": [
    "## Namedtuple"
   ]
  },
  {
   "cell_type": "markdown",
   "metadata": {
    "colab_type": "text",
    "id": "E9FDx0FrGIk0",
    "slideshow": {
     "slide_type": "subslide"
    }
   },
   "source": [
    "Именованный кортеж - тип кортежа, специализированный на фиксированное множество полей.  Каждый сохраненный в них объект может быть доступен через уникальный, удобный для чтения человеком идентификатор."
   ]
  },
  {
   "cell_type": "code",
   "execution_count": null,
   "metadata": {
    "colab": {},
    "colab_type": "code",
    "id": "bj_1y3blGIk2",
    "outputId": "1f27d014-ccd4-42ec-a0ea-f30b9ed74ae6",
    "slideshow": {
     "slide_type": "fragment"
    },
    "pycharm": {
     "is_executing": false
    }
   },
   "outputs": [],
   "source": [
    "from collections import namedtuple\n",
    "Car = namedtuple('Car' , 'color mileage')\n",
    "my_car = Car('red', 3812.4)\n",
    "my_car"
   ]
  },
  {
   "cell_type": "code",
   "execution_count": null,
   "metadata": {
    "colab": {},
    "colab_type": "code",
    "id": "VnzEdUekGIk5",
    "outputId": "03e3c8f6-4457-4896-98bb-c41f318304a4",
    "slideshow": {
     "slide_type": "fragment"
    },
    "pycharm": {
     "is_executing": false
    }
   },
   "outputs": [],
   "source": [
    "my_car.color"
   ]
  },
  {
   "cell_type": "markdown",
   "metadata": {
    "colab_type": "text",
    "id": "wM7z9viZGIk-",
    "slideshow": {
     "slide_type": "fragment"
    }
   },
   "source": [
    "Индексы все еще доступны:"
   ]
  },
  {
   "cell_type": "code",
   "execution_count": null,
   "metadata": {
    "colab": {},
    "colab_type": "code",
    "id": "XuhhOo2YGIk_",
    "outputId": "e891da91-43f7-4330-f554-22cb66cdf948",
    "slideshow": {
     "slide_type": "fragment"
    },
    "pycharm": {
     "is_executing": false
    }
   },
   "outputs": [],
   "source": [
    "my_car[0]"
   ]
  },
  {
   "cell_type": "markdown",
   "metadata": {
    "colab_type": "text",
    "id": "WeYquSDKGIlF",
    "slideshow": {
     "slide_type": "subslide"
    }
   },
   "source": [
    "Есть несколько удобных встроенных методов"
   ]
  },
  {
   "cell_type": "code",
   "execution_count": null,
   "metadata": {
    "colab": {},
    "colab_type": "code",
    "id": "11VYCfuPGIlF",
    "outputId": "bc75924c-a7b7-48db-a242-3917a24f5427",
    "slideshow": {
     "slide_type": "fragment"
    },
    "pycharm": {
     "is_executing": false
    }
   },
   "outputs": [],
   "source": [
    "my_car._asdict()"
   ]
  },
  {
   "cell_type": "markdown",
   "metadata": {
    "colab_type": "text",
    "id": "N1BDozLQGIlZ",
    "slideshow": {
     "slide_type": "fragment"
    }
   },
   "source": [
    "Метод _replace(). Создаёт поверхностную (shallow) копию кортежа и поволяет выборочно заменять некоторые поля:"
   ]
  },
  {
   "cell_type": "code",
   "execution_count": null,
   "metadata": {
    "colab": {},
    "colab_type": "code",
    "id": "i1HdTU3UGIla",
    "outputId": "e4e1e29e-d1ae-426e-8ae9-a7ca1f23fcbb",
    "slideshow": {
     "slide_type": "fragment"
    },
    "pycharm": {
     "is_executing": false
    }
   },
   "outputs": [],
   "source": [
    "my_car._replace(color='blue')"
   ]
  },
  {
   "cell_type": "markdown",
   "metadata": {
    "colab_type": "text",
    "id": "ANG2nbIBGIlh",
    "slideshow": {
     "slide_type": "fragment"
    }
   },
   "source": [
    "Метод класса _make() может быть использован, чтобы создать новый экземпляр именованного кортежа из последовательности:"
   ]
  },
  {
   "cell_type": "code",
   "execution_count": null,
   "metadata": {
    "colab": {},
    "colab_type": "code",
    "id": "I1UUXl6-GIlj",
    "outputId": "144474ae-2770-4404-cd21-fed6815d21b2",
    "slideshow": {
     "slide_type": "fragment"
    },
    "pycharm": {
     "is_executing": false
    }
   },
   "outputs": [],
   "source": [
    "Car._make(['red', 999])"
   ]
  },
  {
   "cell_type": "markdown",
   "metadata": {
    "colab_type": "text",
    "id": "-Y3lxGZNfB6e",
    "slideshow": {
     "slide_type": "slide"
    }
   },
   "source": [
    "## Множественное присваивание и распаковка"
   ]
  },
  {
   "cell_type": "code",
   "execution_count": null,
   "metadata": {
    "colab": {},
    "colab_type": "code",
    "id": "3Fb7BFpGfB6f",
    "slideshow": {
     "slide_type": "fragment"
    },
    "pycharm": {
     "is_executing": false
    }
   },
   "outputs": [],
   "source": [
    "x, y = 10, 20"
   ]
  },
  {
   "cell_type": "markdown",
   "metadata": {
    "colab_type": "text",
    "id": "GdHHNqqufB6g",
    "slideshow": {
     "slide_type": "fragment"
    }
   },
   "source": [
    "То же самое, но по-другому:"
   ]
  },
  {
   "cell_type": "code",
   "execution_count": null,
   "metadata": {
    "colab": {},
    "colab_type": "code",
    "id": "ySSF8YwMfB6g",
    "slideshow": {
     "slide_type": "fragment"
    },
    "pycharm": {
     "is_executing": false
    }
   },
   "outputs": [],
   "source": [
    "x, y = 10, 20\n",
    "x, y = (10, 20)\n",
    "(x, y) = 10, 20\n",
    "(x, y) = (10, 20)"
   ]
  },
  {
   "cell_type": "markdown",
   "metadata": {
    "colab_type": "text",
    "id": "8GliekA9fB6k",
    "slideshow": {
     "slide_type": "subslide"
    }
   },
   "source": [
    "Можно использовать на любом итерируемом объекте"
   ]
  },
  {
   "cell_type": "code",
   "execution_count": null,
   "metadata": {
    "colab": {},
    "colab_type": "code",
    "id": "knmzxWzRfB6k",
    "outputId": "50cf48fd-ed82-4f6b-ee30-d16c4aa4d9bd",
    "slideshow": {
     "slide_type": "fragment"
    },
    "pycharm": {
     "is_executing": false
    }
   },
   "outputs": [],
   "source": [
    "x, y = [10, 20]\n",
    "x"
   ]
  },
  {
   "cell_type": "code",
   "execution_count": null,
   "metadata": {
    "colab": {},
    "colab_type": "code",
    "id": "zQZCj6_9fB6m",
    "outputId": "6f91dacd-4a89-42b1-b362-c15879d089ff",
    "slideshow": {
     "slide_type": "fragment"
    },
    "pycharm": {
     "is_executing": false
    }
   },
   "outputs": [],
   "source": [
    "x, y = 'hi'\n",
    "x"
   ]
  },
  {
   "cell_type": "markdown",
   "metadata": {
    "colab_type": "text",
    "id": "QTVt5ssafB6p",
    "slideshow": {
     "slide_type": "subslide"
    }
   },
   "source": [
    "Работает с любым количеством объектов и даже с переменными:"
   ]
  },
  {
   "cell_type": "code",
   "execution_count": null,
   "metadata": {
    "colab": {},
    "colab_type": "code",
    "id": "GQw8I7kcfB6q",
    "outputId": "7fc1914f-5df2-4b34-c359-faa4b40d16f1",
    "scrolled": true,
    "slideshow": {
     "slide_type": "fragment"
    },
    "pycharm": {
     "is_executing": false
    }
   },
   "outputs": [],
   "source": [
    "point = 10, 20, 30\n",
    "x, y, z = point\n",
    "print(x, y, z)\n",
    "(x, y, z) = (z, y, x)\n",
    "print(x, y, z)"
   ]
  },
  {
   "cell_type": "markdown",
   "metadata": {
    "colab_type": "text",
    "id": "N1x4MYf4fB61",
    "slideshow": {
     "slide_type": "subslide"
    }
   },
   "source": [
    "Можно использовать asterisk:"
   ]
  },
  {
   "cell_type": "code",
   "execution_count": null,
   "metadata": {
    "colab": {},
    "colab_type": "code",
    "id": "T_sc8DrRfB61",
    "outputId": "0f285cc0-9c40-4f39-b789-89e3d2275165",
    "slideshow": {
     "slide_type": "fragment"
    },
    "pycharm": {
     "is_executing": false
    }
   },
   "outputs": [],
   "source": [
    "first, *_, last = range(4)\n",
    "first, last"
   ]
  },
  {
   "cell_type": "code",
   "execution_count": null,
   "metadata": {
    "colab": {},
    "colab_type": "code",
    "id": "X_AvwCwtfB6u",
    "outputId": "5367ef19-ecac-4f72-ac67-a85e14664bca",
    "scrolled": true,
    "slideshow": {
     "slide_type": "fragment"
    },
    "pycharm": {
     "is_executing": false
    }
   },
   "outputs": [],
   "source": [
    "print(*[1], *[2], 3)\n",
    "{*range(4), 4}"
   ]
  },
  {
   "cell_type": "code",
   "execution_count": null,
   "metadata": {
    "slideshow": {
     "slide_type": "fragment"
    },
    "pycharm": {
     "is_executing": false
    }
   },
   "outputs": [],
   "source": [
    "first, *middle, last = range(4)\n",
    "middle, type(middle)"
   ]
  },
  {
   "cell_type": "markdown",
   "metadata": {
    "colab_type": "text",
    "id": "hxw7Swh3fB63",
    "slideshow": {
     "slide_type": "fragment"
    }
   },
   "source": [
    "### Распаковка в звездочку - всегда [список](https://www.python.org/dev/peps/pep-3132/#acceptance)"
   ]
  },
  {
   "cell_type": "markdown",
   "metadata": {
    "colab_type": "text",
    "id": "ohjk6q_3fB64",
    "slideshow": {
     "slide_type": "subslide"
    }
   },
   "source": [
    "## Аналогично работает распаковка двумя звездочками **"
   ]
  },
  {
   "cell_type": "code",
   "execution_count": null,
   "metadata": {
    "colab": {},
    "colab_type": "code",
    "id": "breh-7rufB64",
    "outputId": "24d7e8a7-0149-470d-f2d1-0a7951d04385",
    "slideshow": {
     "slide_type": "fragment"
    },
    "pycharm": {
     "is_executing": false
    }
   },
   "outputs": [],
   "source": [
    "dict(**{'x': 1}, y=2, **{'z': 3})"
   ]
  },
  {
   "cell_type": "markdown",
   "metadata": {
    "colab_type": "text",
    "id": "qi1FVpI2fB65",
    "slideshow": {
     "slide_type": "subslide"
    }
   },
   "source": [
    "В словаре свежие ключи будут перетирать уже существующие в словаре"
   ]
  },
  {
   "cell_type": "code",
   "execution_count": null,
   "metadata": {
    "colab": {},
    "colab_type": "code",
    "id": "4R2PeM5lfB66",
    "outputId": "0268ef7b-421f-4d76-cb0a-7a240127a103",
    "slideshow": {
     "slide_type": "fragment"
    },
    "pycharm": {
     "is_executing": false
    }
   },
   "outputs": [],
   "source": [
    "{'x': 1, **{'x': 2}}"
   ]
  },
  {
   "cell_type": "code",
   "execution_count": null,
   "metadata": {
    "colab": {},
    "colab_type": "code",
    "id": "sTUJEgRjfB68",
    "outputId": "321707c1-54f2-4ba4-fd3d-4f1ad3546e4b",
    "scrolled": true,
    "slideshow": {
     "slide_type": "fragment"
    },
    "pycharm": {
     "is_executing": false
    }
   },
   "outputs": [],
   "source": [
    "{**{'x': 2}, 'x': 1}"
   ]
  },
  {
   "cell_type": "markdown",
   "metadata": {
    "slideshow": {
     "slide_type": "slide"
    }
   },
   "source": [
    "<img src=\"./images/voprosi.jpg\">"
   ]
  },
  {
   "cell_type": "markdown",
   "metadata": {
    "colab_type": "text",
    "id": "vzZESeuifB69",
    "slideshow": {
     "slide_type": "slide"
    }
   },
   "source": [
    "\n",
    "# Сет (множество) - неупорядоченная коллекция уникальных хешируемых объектов.\n"
   ]
  },
  {
   "cell_type": "markdown",
   "metadata": {
    "colab_type": "text",
    "id": "3zMESzLufB69",
    "slideshow": {
     "slide_type": "fragment"
    }
   },
   "source": [
    "### Где используют?\n",
    "1. Удаление дубликатов из последовательности\n",
    "2. Membership testing\n",
    "3. Подсчет пересечений, объединений, разности и симметрической разности\n",
    "\n",
    "\n",
    "#### NB!\n",
    "- Сеты не поддерживают индексирование и слайсинг\n",
    "- Упорядоченной вставки у них нет"
   ]
  },
  {
   "cell_type": "markdown",
   "metadata": {
    "colab_type": "text",
    "id": "yNr2otIwfB6-",
    "slideshow": {
     "slide_type": "slide"
    }
   },
   "source": [
    "## Как создать сет?"
   ]
  },
  {
   "cell_type": "code",
   "execution_count": null,
   "metadata": {
    "colab": {},
    "colab_type": "code",
    "id": "PmOEANaGfB6_",
    "outputId": "7778616c-5554-4262-b9ba-27a09f571edf",
    "scrolled": true,
    "slideshow": {
     "slide_type": "fragment"
    },
    "pycharm": {
     "is_executing": false
    }
   },
   "outputs": [],
   "source": [
    "container = set()\n",
    "container"
   ]
  },
  {
   "cell_type": "markdown",
   "metadata": {
    "colab_type": "text",
    "id": "KytbTByHfB7A",
    "slideshow": {
     "slide_type": "fragment"
    }
   },
   "source": [
    "А еще сет задается фигурными скобками..."
   ]
  },
  {
   "cell_type": "code",
   "execution_count": null,
   "metadata": {
    "colab": {},
    "colab_type": "code",
    "id": "lToup8sffB7B",
    "outputId": "6d8d4b2b-a190-4c9d-ad7a-bad01927c596",
    "scrolled": true,
    "slideshow": {
     "slide_type": "fragment"
    },
    "pycharm": {
     "is_executing": false
    }
   },
   "outputs": [],
   "source": [
    "lol_net = {}\n",
    "type(lol_net)"
   ]
  },
  {
   "cell_type": "markdown",
   "metadata": {
    "colab_type": "text",
    "id": "Ff8At27pfB7G",
    "slideshow": {
     "slide_type": "fragment"
    }
   },
   "source": [
    "Но обязательно с элементами внутри!"
   ]
  },
  {
   "cell_type": "code",
   "execution_count": null,
   "metadata": {
    "colab": {},
    "colab_type": "code",
    "id": "4hTu4Mm5fB7G",
    "outputId": "0f36dbb0-eabd-4e93-b4d2-b9d21d48f72e",
    "slideshow": {
     "slide_type": "fragment"
    },
    "pycharm": {
     "is_executing": false
    }
   },
   "outputs": [],
   "source": [
    "lol = {\"youth\", \"of\", \"the\", \"nation\"}\n",
    "print(lol, id(lol))\n",
    "lol.add(\"me\")\n",
    "print(lol, id(lol))"
   ]
  },
  {
   "cell_type": "markdown",
   "metadata": {
    "colab_type": "text",
    "id": "wsR4dc3lfB7K",
    "slideshow": {
     "slide_type": "fragment"
    }
   },
   "source": [
    "А что будет, если подать не набор объектов, а одну-единственную строку?"
   ]
  },
  {
   "cell_type": "code",
   "execution_count": null,
   "metadata": {
    "colab": {},
    "colab_type": "code",
    "id": "zVm0T1tzfB7K",
    "outputId": "1347dcb8-9c13-451b-b98f-a0f784a05841",
    "slideshow": {
     "slide_type": "fragment"
    },
    "pycharm": {
     "is_executing": false
    }
   },
   "outputs": [],
   "source": [
    "s = set(\"privet\")\n",
    "s"
   ]
  },
  {
   "cell_type": "markdown",
   "metadata": {
    "colab_type": "text",
    "id": "67R3hsOafB7N",
    "slideshow": {
     "slide_type": "fragment"
    }
   },
   "source": [
    "Множество имеет тот же литерал, что и словарь, но пустое множество с помощью литерала создать нельзя!"
   ]
  },
  {
   "cell_type": "markdown",
   "metadata": {
    "colab_type": "text",
    "id": "4nAwcv6rfB7Q",
    "slideshow": {
     "slide_type": "slide"
    }
   },
   "source": [
    "## Методы множеств"
   ]
  },
  {
   "cell_type": "markdown",
   "metadata": {
    "colab_type": "text",
    "id": "05CnJ13FfB7Q",
    "slideshow": {
     "slide_type": "fragment"
    }
   },
   "source": [
    "### Возвращают True или False:\n",
    "\n",
    "set.isdisjoint(another_set) - True, если set и another_set не имеют общих элементов.\n",
    "\n",
    "set.issubset(another_set) - True, все элементы set принадлежат another_set.\n",
    "\n",
    "set.issuperset(another_set) - True, все элементы another_set принадлежат set.\n"
   ]
  },
  {
   "cell_type": "markdown",
   "metadata": {
    "colab_type": "text",
    "id": "UmRC68qmfB7R",
    "slideshow": {
     "slide_type": "fragment"
    }
   },
   "source": [
    "### Вспоминая теорию множеств:\n",
    "\n",
    "set.union(set1, ...) - объединение нескольких множеств.\n",
    "\n",
    "set.intersection(set1, ...) - пересечение множеств.\n",
    "\n",
    "set.difference(other, ...) - множество всех элементов set, не принадлежащих ни одному из other.\n",
    "\n",
    "set.symmetric_difference(other) - все элементы исходных множеств, не принадлежащие одновременно обоим исходным множествам."
   ]
  },
  {
   "cell_type": "markdown",
   "metadata": {
    "colab_type": "text",
    "id": "97edDWnlfB7R",
    "slideshow": {
     "slide_type": "subslide"
    }
   },
   "source": [
    "### И еще один mutable - меняем ~~жизнь~~ множества!\n",
    "\n",
    "<img src=\"images/mutable.jpg\" width=\"700\" height=\"700\">\n",
    "\n",
    "set.update(other, ...) - объединение одного множества другим.\n",
    "\n",
    "set.intersection_update(other, ...) - пересечение.\n",
    "\n",
    "set.difference_update(other, ...) - вычитание.\n",
    "\n",
    "set.symmetric_difference_update(other) - множество из элементов, встречающихся в одном множестве, но не встречающиеся в обоих.\n",
    "\n",
    "set.add(elem) - добавляет элемент в множество.\n",
    "\n",
    "set.remove(elem) - удаляет элемент из множества. KeyError, если такого элемента не существует.\n",
    "\n",
    "set.discard(elem) - удаляет элемент, если он находится в множестве.\n",
    "\n",
    "set.pop() - удаляет первый элемент из множества. Так как множества не упорядочены, нельзя точно сказать, какой элемент будет первым.\n",
    "\n",
    "set.clear() - очистка множества."
   ]
  },
  {
   "cell_type": "markdown",
   "metadata": {
    "colab_type": "text",
    "id": "vLbyHNnnfB7S",
    "slideshow": {
     "slide_type": "slide"
    }
   },
   "source": [
    "## frozenset - неизменямый тип множества.\n",
    "![SegmentLocal](images/frozen.gif \"segment\")"
   ]
  },
  {
   "cell_type": "code",
   "execution_count": null,
   "metadata": {
    "colab": {},
    "colab_type": "code",
    "id": "iIdp_ZkrfB7S",
    "outputId": "d0795e33-0fb3-43fe-8bc0-dc91944240d0",
    "scrolled": false,
    "slideshow": {
     "slide_type": "subslide"
    },
    "pycharm": {
     "is_executing": false
    }
   },
   "outputs": [],
   "source": [
    "frozen = frozenset(\"diplome\")\n",
    "frozen.add(\"water\")"
   ]
  },
  {
   "cell_type": "markdown",
   "metadata": {
    "slideshow": {
     "slide_type": "slide"
    }
   },
   "source": [
    "### molodec! но не ленин\n",
    "\n",
    "- Дали определение сету и его отмороженному родственнику\n",
    "- Потрогали методы сетов и пустоту\n",
    "- Вспомнили Кантора ~~и забыли~~"
   ]
  },
  {
   "cell_type": "markdown",
   "metadata": {
    "colab_type": "text",
    "id": "sHOkJCpWfB7V",
    "slideshow": {
     "slide_type": "skip"
    }
   },
   "source": [
    "## Задание"
   ]
  },
  {
   "cell_type": "code",
   "execution_count": null,
   "metadata": {
    "colab": {},
    "colab_type": "code",
    "id": "p6tMoCR9fB7W",
    "slideshow": {
     "slide_type": "skip"
    },
    "pycharm": {
     "is_executing": false
    }
   },
   "outputs": [],
   "source": [
    "pizza = {\"dough\", \"tomatoes\", \"pepperoni\", \"ground pepper\", \"sweet basil\",\n",
    "         \"a lot of cheeeese\", \"onion\", \"garlic\", \"salt\", \"oregano\"}\n",
    "shaverma = {\"lavash\", \"cucumbers\", \"tomatoes\", \"sauce\", \"fried chicken\", \"onion\", \"cabbage\"}"
   ]
  },
  {
   "cell_type": "code",
   "execution_count": null,
   "metadata": {
    "colab": {},
    "colab_type": "code",
    "id": "OpXbOOXrfB7X",
    "outputId": "f080f5b9-44ab-457e-f2a5-c1ec2beea47e",
    "slideshow": {
     "slide_type": "skip"
    },
    "pycharm": {
     "is_executing": false
    }
   },
   "outputs": [],
   "source": [
    "pizza.difference(shaverma)\n",
    "shaverma.difference(pizza)\n",
    "pizza.intersection(shaverma)"
   ]
  },
  {
   "cell_type": "markdown",
   "metadata": {
    "colab_type": "text",
    "id": "zUyaKlg2fB7i",
    "slideshow": {
     "slide_type": "slide"
    }
   },
   "source": [
    "# Словарь - это неупорядоченная коллекция объектов с доступом по ключу.\n"
   ]
  },
  {
   "cell_type": "markdown",
   "metadata": {
    "colab_type": "text",
    "id": "ZqzS-MyQfB7j",
    "slideshow": {
     "slide_type": "fragment"
    }
   },
   "source": [
    "### Как инициализировать словарь?"
   ]
  },
  {
   "cell_type": "markdown",
   "metadata": {
    "colab_type": "text",
    "id": "tJS_NtggfB7j",
    "slideshow": {
     "slide_type": "slide"
    }
   },
   "source": [
    "## 1. С помощью литерала"
   ]
  },
  {
   "cell_type": "code",
   "execution_count": null,
   "metadata": {
    "colab": {},
    "colab_type": "code",
    "id": "yTBUselNfB7k",
    "outputId": "4d2918e6-be2f-4f9c-bc74-dba00e702911",
    "slideshow": {
     "slide_type": "fragment"
    },
    "pycharm": {
     "is_executing": false
    }
   },
   "outputs": [],
   "source": [
    "dictionary = {}\n",
    "# or\n",
    "dictionary = {'West World': 8.4, 'True Detective': 7.6}\n",
    "dictionary"
   ]
  },
  {
   "cell_type": "markdown",
   "metadata": {
    "colab_type": "text",
    "id": "OuXL42M7fB7n",
    "slideshow": {
     "slide_type": "slide"
    }
   },
   "source": [
    "## 2. Функция dict()"
   ]
  },
  {
   "cell_type": "code",
   "execution_count": null,
   "metadata": {
    "colab": {},
    "colab_type": "code",
    "id": "Ipsx3Bl_fB7n",
    "outputId": "24ad037d-8dcb-4c23-b0de-df9459c6bca6",
    "slideshow": {
     "slide_type": "fragment"
    },
    "pycharm": {
     "is_executing": false
    }
   },
   "outputs": [],
   "source": [
    "dictionary = dict()\n",
    "# or\n",
    "dictionary = dict([(1, 100), (2, 400)])\n",
    "dictionary"
   ]
  },
  {
   "cell_type": "markdown",
   "metadata": {
    "colab_type": "text",
    "id": "gTakWGzFfB7p",
    "slideshow": {
     "slide_type": "slide"
    }
   },
   "source": [
    "## 3. Метод .fromkeys()"
   ]
  },
  {
   "cell_type": "code",
   "execution_count": null,
   "metadata": {
    "colab": {},
    "colab_type": "code",
    "id": "aBcr14XAfB7p",
    "outputId": "6b5e6ed8-9168-491d-c6e1-1677b0601771",
    "scrolled": true,
    "slideshow": {
     "slide_type": "fragment"
    },
    "pycharm": {
     "is_executing": false
    }
   },
   "outputs": [],
   "source": [
    "dictionary = dict.fromkeys([\"Leonardo\", \"Donatello\",\n",
    "                           \"Raphael\", \"Michelangelo\"], \"ninja\")\n",
    "dictionary"
   ]
  },
  {
   "cell_type": "markdown",
   "metadata": {
    "colab_type": "text",
    "id": "2LnAKmAdfB7q",
    "slideshow": {
     "slide_type": "slide"
    }
   },
   "source": [
    "## 4. Генератор словарей"
   ]
  },
  {
   "cell_type": "code",
   "execution_count": null,
   "metadata": {
    "colab": {},
    "colab_type": "code",
    "id": "7TQFcTF8fB7s",
    "outputId": "47b2498d-7d71-4c8b-96f1-571c8a84e26f",
    "slideshow": {
     "slide_type": "fragment"
    },
    "pycharm": {
     "is_executing": false
    }
   },
   "outputs": [],
   "source": [
    "dictionary = {number: number**2 for number in range(0, 7, 2)}\n",
    "dictionary"
   ]
  },
  {
   "cell_type": "markdown",
   "metadata": {
    "colab_type": "text",
    "id": "dxQHxBS6fB7t",
    "slideshow": {
     "slide_type": "slide"
    }
   },
   "source": [
    "## Титул Ключа может быть присвоен\n",
    "- единственному в своем роде "
   ]
  },
  {
   "cell_type": "markdown",
   "metadata": {
    "colab_type": "text",
    "id": "XZkvoBZjfB7t",
    "slideshow": {
     "slide_type": "fragment"
    }
   },
   "source": [
    "- неизменяемому и"
   ]
  },
  {
   "cell_type": "markdown",
   "metadata": {
    "colab_type": "text",
    "id": "ppKOsA__fB7u",
    "slideshow": {
     "slide_type": "fragment"
    }
   },
   "source": [
    "- хешируемому типу\n",
    "<img src=\"images/all.png\" width=\"1000\" height=\"800\">"
   ]
  },
  {
   "cell_type": "markdown",
   "metadata": {
    "colab_type": "text",
    "id": "nRcvLkfufB7u",
    "slideshow": {
     "slide_type": "slide"
    }
   },
   "source": [
    "## Методы словарей"
   ]
  },
  {
   "cell_type": "markdown",
   "metadata": {
    "colab_type": "text",
    "id": "NJNNp2QmfB7u",
    "slideshow": {
     "slide_type": "fragment"
    }
   },
   "source": [
    "### Возвращает пары (ключ, значение)."
   ]
  },
  {
   "cell_type": "code",
   "execution_count": null,
   "metadata": {
    "colab": {},
    "colab_type": "code",
    "id": "bPgxLpnFfB7v",
    "outputId": "a6357257-cbf8-4e5f-b253-8f2aeaeee741",
    "scrolled": true,
    "slideshow": {
     "slide_type": "fragment"
    },
    "pycharm": {
     "is_executing": false
    }
   },
   "outputs": [],
   "source": [
    "dictionary.items() \n"
   ]
  },
  {
   "cell_type": "markdown",
   "metadata": {
    "colab_type": "text",
    "id": "iKBeCAz6fB7w",
    "slideshow": {
     "slide_type": "fragment"
    }
   },
   "source": [
    "dict.keys() - возвращает ключи в словаре.\n",
    "\n",
    "dict.values() - возвращает значения в словаре.\n"
   ]
  },
  {
   "cell_type": "markdown",
   "metadata": {
    "colab_type": "text",
    "id": "toKHpQyufB7w",
    "slideshow": {
     "slide_type": "fragment"
    }
   },
   "source": [
    "Возвращает значение ключа. Если его нет, не бросает исключение, а создает ключ с указанным значением (по умолчанию None)."
   ]
  },
  {
   "cell_type": "code",
   "execution_count": null,
   "metadata": {
    "colab": {},
    "colab_type": "code",
    "id": "8YDT0lbrfB7x",
    "outputId": "523b46a3-614d-46f9-91be-97d0dc2756c3",
    "slideshow": {
     "slide_type": "fragment"
    },
    "pycharm": {
     "is_executing": false
    }
   },
   "outputs": [],
   "source": [
    "dictionary.setdefault(\"new\")\n",
    "dictionary"
   ]
  },
  {
   "cell_type": "markdown",
   "metadata": {
    "colab_type": "text",
    "id": "o1B7QeZtfB7z",
    "slideshow": {
     "slide_type": "fragment"
    }
   },
   "source": [
    "Возвращает значение ключа, но если его нет, не бросает исключение, а возвращает default (по умолчанию None)."
   ]
  },
  {
   "cell_type": "code",
   "execution_count": null,
   "metadata": {
    "colab": {},
    "colab_type": "code",
    "id": "F50vDfTffB7z",
    "outputId": "c7aa4bbd-400f-415d-da8a-ee924ab86acc",
    "slideshow": {
     "slide_type": "fragment"
    },
    "pycharm": {
     "is_executing": false
    }
   },
   "outputs": [],
   "source": [
    "dictionary.get(\"smth\")\n",
    "dictionary"
   ]
  },
  {
   "cell_type": "markdown",
   "metadata": {
    "colab_type": "text",
    "id": "wFb-A1MnfB71",
    "slideshow": {
     "slide_type": "fragment"
    }
   },
   "source": [
    "dict.pop(key[, default]) - удаляет ключ и возвращает значение. Если ключа нет, возвращает default (по умолчанию бросает исключение).\n",
    "\n",
    "dict.popitem() - удаляет и возвращает пару (ключ, значение). Если словарь пуст, бросает исключение KeyError. Помните, что словари неупорядочены.\n",
    "\n",
    "dict.update([other]) - обновляет словарь, добавляя пары (ключ, значение) из other. Существующие ключи перезаписываются. Возвращает None (не новый словарь!)."
   ]
  },
  {
   "cell_type": "markdown",
   "metadata": {
    "colab_type": "text",
    "id": "0FyYE5uHfB72",
    "slideshow": {
     "slide_type": "slide"
    }
   },
   "source": [
    "### Обсудили словари\n",
    "\n",
    "- 4 способа создать словарь бесплатно\n",
    "- Кому может быть присвоен титул Ключа\n",
    "- Методы словарей\n",
    " - берем всё - .items()\n",
    " - ключи - .keys()\n",
    " - значения - .values()\n",
    " - получили, что спросили - .get() / .setdefault()"
   ]
  },
  {
   "cell_type": "markdown",
   "metadata": {
    "colab_type": "text",
    "id": "EGIWwVuTLA_y",
    "slideshow": {
     "slide_type": "slide"
    }
   },
   "source": [
    "# Файлы и работа с ними"
   ]
  },
  {
   "cell_type": "markdown",
   "metadata": {
    "colab_type": "text",
    "id": "oxD9VVa7LA_4",
    "slideshow": {
     "slide_type": "subslide"
    }
   },
   "source": [
    "### Функция open"
   ]
  },
  {
   "cell_type": "markdown",
   "metadata": {
    "colab_type": "text",
    "id": "BTTq-ab6LA_9",
    "slideshow": {
     "slide_type": "fragment"
    }
   },
   "source": [
    "Текстовые и бинарные файлы в Python сильно отличаются."
   ]
  },
  {
   "cell_type": "markdown",
   "metadata": {
    "colab_type": "text",
    "id": "6cubUyCJLBAE",
    "slideshow": {
     "slide_type": "fragment"
    }
   },
   "source": [
    "Создать объект типа файл можно с помощью функции open,\n",
    "которая принимает один обязательный аргумент — путь к\n",
    "файлу:"
   ]
  },
  {
   "cell_type": "code",
   "execution_count": null,
   "metadata": {
    "colab": {},
    "colab_type": "code",
    "id": "O6fmeoXmLBAG",
    "outputId": "e9bb87e3-68d0-44e3-9bdb-2eb08a404f72",
    "slideshow": {
     "slide_type": "fragment"
    },
    "pycharm": {
     "is_executing": false
    }
   },
   "outputs": [],
   "source": [
    "open('./data/test.txt')"
   ]
  },
  {
   "cell_type": "markdown",
   "metadata": {
    "colab_type": "text",
    "id": "Yb-yXofnLBAU",
    "slideshow": {
     "slide_type": "subslide"
    }
   },
   "source": [
    "Аргументов у функции open - много, обратить внимание нужно на:\n",
    "* __mode__ - определяет в каком режиме будет открыт файл. Возможные значения:\n",
    "  * \"r\", \"w\", \"x\", \"a\", \"+\"\n",
    "  * \"b\", \"t\".\n",
    "* для текстовых файлов\n",
    "  * __encoding__\n",
    "  * __errors__\n"
   ]
  },
  {
   "cell_type": "markdown",
   "metadata": {
    "colab_type": "text",
    "id": "Qr0FfBf8LBAZ",
    "slideshow": {
     "slide_type": "fragment"
    }
   },
   "source": [
    "                  | r   r+   w   w+   a   a+\n",
    "------------------|--------------------------\n",
    "read              | +   +        +        +\n",
    "write             |     +    +   +    +   +\n",
    "write after seek  |     +    +   +\n",
    "create            |          +   +    +   +\n",
    "truncate          |          +   +\n",
    "position at start | +   +    +   +\n",
    "position at end   |                   +   +"
   ]
  },
  {
   "cell_type": "markdown",
   "metadata": {
    "colab_type": "text",
    "id": "UwGiRhbhLBAd",
    "slideshow": {
     "slide_type": "fragment"
    }
   },
   "source": [
    "Создать новый текстовый файл в системной кодировке и\n",
    "открыть его для записи:"
   ]
  },
  {
   "cell_type": "code",
   "execution_count": null,
   "metadata": {
    "colab": {},
    "colab_type": "code",
    "id": "400EzPPlLBAg",
    "outputId": "dfe0ae77-8175-498d-ea5d-2b1bbd332282",
    "slideshow": {
     "slide_type": "fragment"
    },
    "pycharm": {
     "is_executing": false
    }
   },
   "outputs": [],
   "source": [
    "open(\"./data/text.txt\", \"x\") # failing if the file already exists"
   ]
  },
  {
   "cell_type": "markdown",
   "metadata": {
    "colab_type": "text",
    "id": "dQtq6u9hLBAq",
    "slideshow": {
     "slide_type": "slide"
    }
   },
   "source": [
    "### Методы работы с файлами"
   ]
  },
  {
   "cell_type": "markdown",
   "metadata": {
    "colab_type": "text",
    "id": "UQHxBMdBLBAv",
    "slideshow": {
     "slide_type": "subslide"
    }
   },
   "source": [
    "#### Чтение"
   ]
  },
  {
   "cell_type": "markdown",
   "metadata": {
    "colab_type": "text",
    "id": "yOLQePPbLBAw",
    "slideshow": {
     "slide_type": "fragment"
    }
   },
   "source": [
    "Метод __read__ читает не более n символов из файла"
   ]
  },
  {
   "cell_type": "code",
   "execution_count": null,
   "metadata": {
    "colab": {},
    "colab_type": "code",
    "id": "vEQre9P8LBAz",
    "outputId": "fbb0ff40-232b-4e1b-fe52-78bfdcbca691",
    "slideshow": {
     "slide_type": "fragment"
    },
    "pycharm": {
     "is_executing": false
    }
   },
   "outputs": [],
   "source": [
    "file_handle = open('./data/test.txt')\n",
    "file_handle.read(7)"
   ]
  },
  {
   "cell_type": "markdown",
   "metadata": {
    "colab_type": "text",
    "id": "A5HQRSqCLBA_",
    "slideshow": {
     "slide_type": "fragment"
    }
   },
   "source": [
    "Методы readline и readlines читают одну или все строчки\n",
    "соотвественно. Можно указать максимальное количество\n",
    "символов, которые надо прочитать:"
   ]
  },
  {
   "cell_type": "code",
   "execution_count": null,
   "metadata": {
    "colab": {},
    "colab_type": "code",
    "id": "T2jynpYFLBBB",
    "outputId": "ccaa96ba-ede8-491d-ff35-e6c6d37887b8",
    "slideshow": {
     "slide_type": "fragment"
    },
    "pycharm": {
     "is_executing": false
    }
   },
   "outputs": [],
   "source": [
    "file_handle = open('./data/test.txt')\n",
    "print(len(file_handle.readline()))\n",
    "\n",
    "file_handle.readlines()"
   ]
  },
  {
   "cell_type": "markdown",
   "metadata": {
    "colab_type": "text",
    "id": "1VuVM0-iLBBP",
    "slideshow": {
     "slide_type": "subslide"
    }
   },
   "source": [
    "### Запись"
   ]
  },
  {
   "cell_type": "code",
   "execution_count": null,
   "metadata": {
    "colab": {},
    "colab_type": "code",
    "id": "2S9YzyFtLBBS",
    "outputId": "1de8bc99-41f6-4855-b503-c40f8f0c5f1a",
    "slideshow": {
     "slide_type": "fragment"
    },
    "pycharm": {
     "is_executing": false
    }
   },
   "outputs": [],
   "source": [
    "file_handle = open(\"./data/example.txt\", \"w\")\n",
    "file_handle = close(\"./data/example.txt\", \"w\")\n",
    "file_handle.write('someinformation')"
   ]
  },
  {
   "cell_type": "markdown",
   "metadata": {
    "colab_type": "text",
    "id": "QEnKOW14LBBf",
    "slideshow": {
     "slide_type": "fragment"
    }
   },
   "source": [
    "Неявного добавления символа переноса строки, как в __print__ - нет!"
   ]
  },
  {
   "cell_type": "markdown",
   "metadata": {
    "colab_type": "text",
    "id": "HqO-IUKrLBBi",
    "slideshow": {
     "slide_type": "fragment"
    }
   },
   "source": [
    "Записать последовательность строк можно с помощью\n",
    "метода writelines:"
   ]
  },
  {
   "cell_type": "code",
   "execution_count": null,
   "metadata": {
    "colab": {},
    "colab_type": "code",
    "id": "HSHfO0s4LBBk",
    "outputId": "55631ff6-4e08-4eba-b483-cec9e8508fca",
    "slideshow": {
     "slide_type": "fragment"
    },
    "pycharm": {
     "is_executing": false
    }
   },
   "outputs": [],
   "source": [
    "file_handle.writelines(['spam', 'egg'])\n",
    "open(\"./data/example.txt\", \"r\").readlines()"
   ]
  },
  {
   "cell_type": "markdown",
   "metadata": {
    "colab_type": "text",
    "id": "zdZHxiwoLBBs",
    "slideshow": {
     "slide_type": "subslide"
    }
   },
   "source": [
    "И еще немного методов работы с файлом"
   ]
  },
  {
   "cell_type": "code",
   "execution_count": null,
   "metadata": {
    "colab": {},
    "colab_type": "code",
    "id": "loDDAfRTLBBv",
    "outputId": "046eb973-0b3f-46bb-e5c6-646b48a872de",
    "slideshow": {
     "slide_type": "fragment"
    },
    "pycharm": {
     "is_executing": false
    }
   },
   "outputs": [],
   "source": [
    "file_handle = open(\"./data/example.txt\", \"r+\")\n",
    "file_handle.fileno() # file descriptor”"
   ]
  },
  {
   "cell_type": "code",
   "execution_count": null,
   "metadata": {
    "colab": {},
    "colab_type": "code",
    "id": "8zP8aFhXLBB4",
    "outputId": "e15e41ef-79ad-4ec7-bcd4-22e5a5d8c381",
    "slideshow": {
     "slide_type": "fragment"
    },
    "pycharm": {
     "is_executing": false
    }
   },
   "outputs": [],
   "source": [
    "file_handle.tell() # file object’s current position in bytes"
   ]
  },
  {
   "cell_type": "code",
   "execution_count": null,
   "metadata": {
    "colab": {},
    "colab_type": "code",
    "id": "W_Lb-xhULBCF",
    "outputId": "e4fa8989-afbe-49e9-d27d-54650b4f73bf",
    "slideshow": {
     "slide_type": "fragment"
    },
    "pycharm": {
     "is_executing": false
    }
   },
   "outputs": [],
   "source": [
    "file_handle.seek(8)\n",
    "file_handle.tell()"
   ]
  },
  {
   "cell_type": "code",
   "execution_count": null,
   "metadata": {
    "colab": {},
    "colab_type": "code",
    "id": "6weWtl_nLBCN",
    "slideshow": {
     "slide_type": "fragment"
    },
    "pycharm": {
     "is_executing": false
    }
   },
   "outputs": [],
   "source": [
    "file_handle.write(\"something unimportant\")\n",
    "file_handle.flush() # Flush the write buffers of the stream\n",
    "file_handle.close()"
   ]
  },
  {
   "cell_type": "markdown",
   "metadata": {
    "colab_type": "text",
    "id": "i0UWuQcALBCX",
    "slideshow": {
     "slide_type": "subslide"
    }
   },
   "source": [
    "### Файл всегда нужно закрывать"
   ]
  },
  {
   "cell_type": "markdown",
   "metadata": {
    "colab_type": "text",
    "id": "btEE_MLkLBCa",
    "slideshow": {
     "slide_type": "fragment"
    }
   },
   "source": [
    "А сделать это удобно можно с помощью контекстного менеджера:"
   ]
  },
  {
   "cell_type": "code",
   "execution_count": null,
   "metadata": {
    "colab": {},
    "colab_type": "code",
    "id": "vog3kxJmLBCe",
    "slideshow": {
     "slide_type": "fragment"
    },
    "pycharm": {
     "is_executing": false
    }
   },
   "outputs": [],
   "source": [
    "with open(\"./data/example.txt\", \"r+\") as ouf:\n",
    "    ...\n",
    "    # do your stuff here and dont worry about file closing"
   ]
  },
  {
   "cell_type": "markdown",
   "metadata": {
    "colab_type": "text",
    "id": "PmA7CnLlLBCq",
    "slideshow": {
     "slide_type": "slide"
    }
   },
   "source": [
    "### Вся правда о файлах"
   ]
  },
  {
   "cell_type": "markdown",
   "metadata": {
    "colab_type": "text",
    "id": "i0Ri6ifXLBCt",
    "slideshow": {
     "slide_type": "fragment"
    }
   },
   "source": [
    "В UNIX - все файл: директории, жесткий диск, сетевые устройста, пайплайны, stdin/stdout и тд.\n",
    "\n",
    "И работая с файламими в shell мы как правило работаем с __inode__"
   ]
  },
  {
   "cell_type": "markdown",
   "metadata": {
    "colab_type": "text",
    "id": "0IyvKtMqLBCv",
    "slideshow": {
     "slide_type": "fragment"
    }
   },
   "source": [
    "* Inode - структура данных, которая является репрезентацией файла (хранит метаинформацию)\n",
    "* Index node (maybe?)\n",
    "* Хранится на диске, указывает на фактическое местоположение файла"
   ]
  },
  {
   "cell_type": "markdown",
   "metadata": {
    "colab_type": "text",
    "id": "LB6Mq1ArLBCx",
    "slideshow": {
     "slide_type": "fragment"
    }
   },
   "source": [
    "Хранит:\n",
    "* группу и имя владельца\n",
    "* тип: обычный, директория, символьное или блочное устройство, FIFO pipe\n",
    "* Права доступа\n",
    "* время доступа: к файлу, файл изменен, inode'а изменена.\n",
    "* Количество жестких ссылок к файлу\n",
    "* Адреса блоков диска, хранящих информацию\n",
    "* Размер файла\n",
    "\n",
    "Не хранит путь до файла!"
   ]
  },
  {
   "cell_type": "markdown",
   "metadata": {
    "colab_type": "text",
    "id": "bLc0AnrrLBC1",
    "slideshow": {
     "slide_type": "slide"
    }
   },
   "source": [
    "__Файловый дескриптор__ — это неотрицательное целое число. Когда мы открываем существующий файл и создаем новый файл, ядро возвращает процессу файловый дескриптор."
   ]
  },
  {
   "cell_type": "markdown",
   "metadata": {
    "colab_type": "text",
    "id": "4VDmiXMELBC6",
    "slideshow": {
     "slide_type": "fragment"
    }
   },
   "source": [
    "При запуске программы в оболочке открывается три дескриптора 0, 1 и 2. По умолчанию с ними связаны следующие файлы:\n",
    "\n",
    "По умолчанию UNIX-шеллы связывают файловый дескриптор 0 со стандартным вводом процесса (терминал), файловый дескриптор 1 — со стандартным выводом (терминал), и файловый дескриптор 2 — со стандартной ошибкой (то есть то куда выводятся сообщения об ошибках). Это соглашение соблюдается многими UNIX-шеллами и многими приложениями — и в ни коем случае не является составной частью ядра."
   ]
  },
  {
   "cell_type": "markdown",
   "metadata": {
    "colab_type": "text",
    "id": "lLrnSj0MLBDA",
    "slideshow": {
     "slide_type": "slide"
    }
   },
   "source": [
    "#### Почему важно закрывать файловый дискриптор ?"
   ]
  },
  {
   "cell_type": "markdown",
   "metadata": {
    "colab_type": "text",
    "id": "trM-RNnkLBDC",
    "slideshow": {
     "slide_type": "fragment"
    }
   },
   "source": [
    "* Отправляет программу в руки сборщика мусора\n",
    "* Может замедлить программу. Слишком много открытых вещей - большой расход RAM\n",
    "* Большинство изменений в файле применятся только после закрытия файла.\n",
    "* Теоретически вы можете упереться в лимит ОС на открытые файлы\n",
    "* Windows считает открытые файлы заблокированными, так что, например, другой скрипт на питоне не сможет их прочитать.\n",
    "* Дурной тон"
   ]
  },
  {
   "cell_type": "markdown",
   "metadata": {
    "slideshow": {
     "slide_type": "slide"
    }
   },
   "source": [
    "# Все это, конечно, прекрасно и обязательно нужно запомнить..."
   ]
  },
  {
   "cell_type": "code",
   "execution_count": null,
   "metadata": {
    "slideshow": {
     "slide_type": "fragment"
    },
    "pycharm": {
     "is_executing": false
    }
   },
   "outputs": [],
   "source": [
    "help(str)"
   ]
  },
  {
   "cell_type": "markdown",
   "metadata": {
    "colab_type": "text",
    "id": "8ocVszZmfB8b",
    "slideshow": {
     "slide_type": "slide"
    }
   },
   "source": [
    "<img src='./images/voprosiki.jpg'>"
   ]
  },
  {
   "cell_type": "code",
   "execution_count": null,
   "metadata": {
    "colab": {},
    "colab_type": "code",
    "id": "oH1roGa-fB8b",
    "pycharm": {
     "is_executing": false
    }
   },
   "outputs": [],
   "source": []
  }
 ],
 "metadata": {
  "celltoolbar": "Slideshow",
  "colab": {
   "collapsed_sections": [
    "bjDR_khjrIwR",
    "g2FiBoEXFjE0",
    "yRaSwyLpJeE4",
    "Iwvk6lphfB03",
    "EGWujNrpfB1B",
    "4ztBsavMfB1H",
    "RokO50RwfB1M",
    "ZDAUXFKjfB1S",
    "mcy_jilUfB1Y",
    "GGdIbRR5fB1m",
    "QEOw1Q6ZCCEk",
    "vFmSKHcxIx9L",
    "Da6WJQhefB11",
    "O8TaAodk-taE",
    "ZwoxKdv5fB17",
    "5hwWGlzmfB2J",
    "SrRJ-LUxfB2R",
    "kiD6hsA_fB2t",
    "nPtt_iYxGIeq",
    "AH4XB5DRGIez",
    "DQdijjehGIfx",
    "TNtv3DTjGIgf",
    "MPS4ZGTFGIg4",
    "7Le2oJpDGIhz",
    "eGUtXxLlGIiW",
    "00egt4WeGIin",
    "iXzT2FqKGIi7",
    "prSD8bceGIjt",
    "Job4MoNrGIkB",
    "_Lq29M9PGIkV",
    "mQzHE7ymfB55",
    "x-OryYaRGIkV",
    "OgBJlLD9GIkY",
    "mk6X31RhGIkp",
    "BAldCH3mGIks",
    "-Y3lxGZNfB6e",
    "hxw7Swh3fB63",
    "ohjk6q_3fB64",
    "vzZESeuifB69",
    "3zMESzLufB69",
    "yNr2otIwfB6-",
    "4nAwcv6rfB7Q",
    "05CnJ13FfB7Q",
    "UmRC68qmfB7R",
    "97edDWnlfB7R",
    "vLbyHNnnfB7S",
    "sHOkJCpWfB7V",
    "zUyaKlg2fB7i",
    "ZqzS-MyQfB7j",
    "tJS_NtggfB7j",
    "OuXL42M7fB7n",
    "gTakWGzFfB7p",
    "2LnAKmAdfB7q",
    "dxQHxBS6fB7t",
    "nRcvLkfufB7u",
    "NJNNp2QmfB7u",
    "0FyYE5uHfB72",
    "EGIWwVuTLA_y",
    "oxD9VVa7LA_4",
    "dQtq6u9hLBAq",
    "UQHxBMdBLBAv",
    "1VuVM0-iLBBP",
    "i0UWuQcALBCX",
    "PmA7CnLlLBCq",
    "lLrnSj0MLBDA"
   ],
   "name": "data_structs.ipynb",
   "provenance": [],
   "version": "0.3.2"
  },
  "kernelspec": {
   "display_name": "Python 3",
   "language": "python",
   "name": "python3"
  },
  "language_info": {
   "codemirror_mode": {
    "name": "ipython",
    "version": 3
   },
   "file_extension": ".py",
   "mimetype": "text/x-python",
   "name": "python",
   "nbconvert_exporter": "python",
   "pygments_lexer": "ipython3",
   "version": "3.7.1"
  },
  "pycharm": {
   "stem_cell": {
    "cell_type": "raw",
    "source": [],
    "metadata": {
     "collapsed": false
    }
   }
  }
 },
 "nbformat": 4,
 "nbformat_minor": 1
}
