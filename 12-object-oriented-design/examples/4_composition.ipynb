{
 "cells": [
  {
   "cell_type": "markdown",
   "metadata": {},
   "source": [
    "### Inheritance example"
   ]
  },
  {
   "cell_type": "code",
   "execution_count": 1,
   "metadata": {
    "collapsed": true
   },
   "outputs": [],
   "source": [
    "class Door:\n",
    "    def __init__(self, status):\n",
    "        self.closed = status\n",
    "        \n",
    "    def door_open(self):\n",
    "        self.closed = False\n",
    "        \n",
    "    def door_close(self):\n",
    "        self.closed = True"
   ]
  },
  {
   "cell_type": "code",
   "execution_count": 3,
   "metadata": {
    "collapsed": true
   },
   "outputs": [],
   "source": [
    "class SecurityDoor(Door):\n",
    "    def __init__(self, status):\n",
    "        super().__init__(status)\n",
    "        self.locked = True\n",
    "\n",
    "    def door_open(self):\n",
    "        if self.locked:\n",
    "            return\n",
    "        super().door_open()"
   ]
  },
  {
   "cell_type": "markdown",
   "metadata": {},
   "source": [
    "### Composition example"
   ]
  },
  {
   "cell_type": "code",
   "execution_count": null,
   "metadata": {
    "collapsed": true
   },
   "outputs": [],
   "source": [
    "class SecurityDoor:\n",
    "    def __init__(self, status):\n",
    "        self.door = Door(status)\n",
    "        self.locked = True\n",
    "\n",
    "    def door_open(self):\n",
    "        if self.locked:\n",
    "            return\n",
    "        self.door.door_open()\n",
    "\n",
    "    def __getattr__(self, attr):\n",
    "        return getattr(self.door, attr)"
   ]
  }
 ],
 "metadata": {
  "kernelspec": {
   "display_name": "Python 3",
   "language": "python",
   "name": "python3"
  },
  "language_info": {
   "codemirror_mode": {
    "name": "ipython",
    "version": 3
   },
   "file_extension": ".py",
   "mimetype": "text/x-python",
   "name": "python",
   "nbconvert_exporter": "python",
   "pygments_lexer": "ipython3",
   "version": "3.6.2"
  }
 },
 "nbformat": 4,
 "nbformat_minor": 2
}
