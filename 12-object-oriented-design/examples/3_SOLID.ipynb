{
 "cells": [
  {
   "cell_type": "markdown",
   "metadata": {},
   "source": [
    "## Single Responsibility Principle "
   ]
  },
  {
   "cell_type": "code",
   "execution_count": null,
   "metadata": {
    "collapsed": true
   },
   "outputs": [],
   "source": [
    "# wrong sample\n",
    "\n",
    "class  User:\n",
    "    def __init__(self, name: str):\n",
    "        self.name = name\n",
    "    \n",
    "    def get_name(self) -> str:\n",
    "        pass\n",
    "\n",
    "    def save(self, user: User):\n",
    "        pass"
   ]
  },
  {
   "cell_type": "code",
   "execution_count": null,
   "metadata": {
    "collapsed": true
   },
   "outputs": [],
   "source": [
    "# right sample\n",
    "\n",
    "class User:\n",
    "    def __init__(self, name: str):\n",
    "            self.name = name\n",
    "    \n",
    "    def get_name(self):\n",
    "        pass\n",
    "\n",
    "\n",
    "class UserDB:\n",
    "    def get_user(self, id) -> User:\n",
    "        pass\n",
    "\n",
    "    def save(self, user: User):\n",
    "        pass"
   ]
  },
  {
   "cell_type": "markdown",
   "metadata": {},
   "source": [
    "## Open / closed principle"
   ]
  },
  {
   "cell_type": "code",
   "execution_count": null,
   "metadata": {
    "collapsed": true
   },
   "outputs": [],
   "source": [
    "# wrong sample\n",
    "\n",
    "class Discount:\n",
    "    def __init__(self, customer):\n",
    "        self.customer = customer\n",
    "    \n",
    "    def give_discount(self, price):\n",
    "        if self.customer == 'fav':\n",
    "            return price * 0.2\n",
    "        if self.customer == 'vip':\n",
    "            return price * 0.4"
   ]
  },
  {
   "cell_type": "code",
   "execution_count": null,
   "metadata": {
    "collapsed": true
   },
   "outputs": [],
   "source": [
    "# right sample\n",
    "\n",
    "class Discount:\n",
    "    def get_discount(self, price):\n",
    "        return price * 0.2\n",
    "\n",
    "\n",
    "class VIPDiscount(Discount):\n",
    "    def get_discount(self, price):\n",
    "        return super().get_discount(price) * 2"
   ]
  },
  {
   "cell_type": "markdown",
   "metadata": {
    "collapsed": true
   },
   "source": [
    "## Liskov Substitution Principle"
   ]
  },
  {
   "cell_type": "code",
   "execution_count": null,
   "metadata": {
    "collapsed": true
   },
   "outputs": [],
   "source": [
    "# wrong sample\n",
    "\n",
    "class Animal:\n",
    "    pass\n",
    "\n",
    "\n",
    "class Lion(Animal):\n",
    "    pass\n",
    "\n",
    "\n",
    "class Wolf(Animal):\n",
    "    pass\n",
    "\n",
    "\n",
    "def get_animal_sound(animal: Animal):\n",
    "    if isinstance(animal, Lion):\n",
    "        return 'Lion sound'\n",
    "    elif isinstance(animal, Wolf):\n",
    "        return 'Wolf sound'"
   ]
  },
  {
   "cell_type": "code",
   "execution_count": 1,
   "metadata": {
    "collapsed": true
   },
   "outputs": [],
   "source": [
    "# right sample\n",
    "\n",
    "class Animal:\n",
    "    def get_sound(self):\n",
    "        return 'Animal sound'\n",
    "        \n",
    "\n",
    "class Lion(Animal):\n",
    "    def get_sound(self):\n",
    "        return 'Lion sound'\n",
    "\n",
    "\n",
    "class Wolf(Animal):\n",
    "    def get_sound(self):\n",
    "        return 'Wolf sound'\n",
    "\n",
    "\n",
    "def get_animal_sound(animal: Animal):\n",
    "    return animal.get_sound()"
   ]
  },
  {
   "cell_type": "code",
   "execution_count": 2,
   "metadata": {},
   "outputs": [
    {
     "name": "stdout",
     "output_type": "stream",
     "text": [
      "Lion sound\n",
      "Wolf sound\n"
     ]
    }
   ],
   "source": [
    "lion = Lion()\n",
    "wolf = Wolf()\n",
    "print(get_animal_sound(lion))\n",
    "print(get_animal_sound(wolf))"
   ]
  },
  {
   "cell_type": "markdown",
   "metadata": {},
   "source": [
    "#### Another example"
   ]
  },
  {
   "cell_type": "code",
   "execution_count": 3,
   "metadata": {
    "collapsed": true
   },
   "outputs": [],
   "source": [
    "class Account:\n",
    "    def __init__(self, balance):\n",
    "        self.balance = balance\n",
    "        \n",
    "    def withdraw(self, amount):\n",
    "        self.balance -= amount\n",
    "        print(f'Current balance is {self.balance}')\n",
    "        \n",
    "        \n",
    "class UserAccount(Account):\n",
    "    def withdraw(self, amount):\n",
    "        super().withdraw(amount)\n",
    "        if self.balance < 0:\n",
    "            print(f'User is in debt')    "
   ]
  },
  {
   "cell_type": "code",
   "execution_count": 4,
   "metadata": {
    "collapsed": true
   },
   "outputs": [],
   "source": [
    "class WrongUserAccount(Account):\n",
    "    def withdraw(self, amount):\n",
    "        remaining = self.balance - amount\n",
    "        if remaining >= 0:\n",
    "            super().withdraw(amount)"
   ]
  },
  {
   "cell_type": "code",
   "execution_count": 5,
   "metadata": {},
   "outputs": [
    {
     "name": "stdout",
     "output_type": "stream",
     "text": [
      "Right behaviour:\n",
      "Current balance is 10\n",
      "Current balance is -10\n",
      "User is in debt\n"
     ]
    }
   ],
   "source": [
    "print('Right behaviour:')\n",
    "account = UserAccount(50)\n",
    "account.withdraw(40)\n",
    "account.withdraw(20)"
   ]
  },
  {
   "cell_type": "code",
   "execution_count": 6,
   "metadata": {},
   "outputs": [
    {
     "name": "stdout",
     "output_type": "stream",
     "text": [
      "Wrong behaviour:\n",
      "Current balance is 10\n"
     ]
    }
   ],
   "source": [
    "print('Wrong behaviour:')\n",
    "wrong_account = WrongUserAccount(50)\n",
    "wrong_account.withdraw(40)\n",
    "wrong_account.withdraw(20)"
   ]
  },
  {
   "cell_type": "markdown",
   "metadata": {},
   "source": [
    "## Interface Segregation Principle"
   ]
  },
  {
   "cell_type": "code",
   "execution_count": null,
   "metadata": {
    "collapsed": true
   },
   "outputs": [],
   "source": [
    "# wrong sample\n",
    "\n",
    "class IShape:\n",
    "    def draw_circle(self):\n",
    "        raise NotImplementedError\n",
    "    \n",
    "    def draw_square(self):\n",
    "        raise NotImplementedError\n",
    "    \n",
    "    def draw_rectangle(self):\n",
    "        raise NotImplementedError\n",
    "    \n",
    "    \n",
    "class Circle(IShape):\n",
    "    def draw_circle(self):\n",
    "        pass\n",
    "    \n",
    "    def draw_square(self):\n",
    "        pass\n",
    "    \n",
    "    def draw_rectangle(self):\n",
    "        pass"
   ]
  },
  {
   "cell_type": "code",
   "execution_count": null,
   "metadata": {
    "collapsed": true
   },
   "outputs": [],
   "source": [
    "# right sample\n",
    "\n",
    "class IShape:\n",
    "    def draw(self):\n",
    "        raise NotImplementedError\n",
    "\n",
    "\n",
    "class Circle(IShape):\n",
    "    def draw(self):\n",
    "        pass\n",
    "\n",
    "\n",
    "class Square(IShape):\n",
    "    def draw(self):\n",
    "        pass\n",
    "\n",
    "\n",
    "class Rectangle(IShape):\n",
    "    def draw(self):\n",
    "        pass"
   ]
  },
  {
   "cell_type": "markdown",
   "metadata": {},
   "source": [
    "## Dependecy Inversion Principle"
   ]
  },
  {
   "cell_type": "code",
   "execution_count": null,
   "metadata": {
    "collapsed": true
   },
   "outputs": [],
   "source": [
    "class AuthenticationForUser():\n",
    "    def __init__(self, connector:Connector):\n",
    "        self.connection = connector.connect()\n",
    "\n",
    "    def authenticate(self, credentials):\n",
    "        pass\n",
    "    \n",
    "    def is_authenticated(self):\n",
    "        pass\n",
    "    \n",
    "    def last_login(self):\n",
    "        pass\n",
    "\n",
    "\n",
    "class AnonymousAuth(AuthenticationForUser):\n",
    "    pass\n",
    "\n",
    "\n",
    "class GithubAuth(AuthenticationForUser):\n",
    "    pass\n",
    "\n",
    "    \n",
    "class FacebookAuth(AuthenticationForUser):\n",
    "    pass\n",
    "\n",
    "\n",
    "class Permissions()\n",
    "    def __init__(self, auth: AuthenticationForUser)\n",
    "        self.auth = auth\n",
    "\n",
    "    def has_permissions():\n",
    "        pass\n",
    "    \n",
    "    def last_login():\n",
    "        return auth.last_log    "
   ]
  }
 ],
 "metadata": {
  "kernelspec": {
   "display_name": "Python 3",
   "language": "python",
   "name": "python3"
  },
  "language_info": {
   "codemirror_mode": {
    "name": "ipython",
    "version": 3
   },
   "file_extension": ".py",
   "mimetype": "text/x-python",
   "name": "python",
   "nbconvert_exporter": "python",
   "pygments_lexer": "ipython3",
   "version": "3.6.2"
  }
 },
 "nbformat": 4,
 "nbformat_minor": 2
}
